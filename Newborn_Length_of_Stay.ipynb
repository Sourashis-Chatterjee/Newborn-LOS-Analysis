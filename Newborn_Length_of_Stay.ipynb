{
  "nbformat": 4,
  "nbformat_minor": 0,
  "metadata": {
    "colab": {
      "provenance": []
    },
    "kernelspec": {
      "name": "python3",
      "display_name": "Python 3"
    },
    "language_info": {
      "name": "python"
    }
  },
  "cells": [
    {
      "cell_type": "markdown",
      "source": [
        "**Data Preparation and Preprocessing for the sparcs dataset for newborns. The files are individually downloaded but will be clubbed into a bigger dataset.**"
      ],
      "metadata": {
        "id": "BOGZo2Z82pRy"
      }
    },
    {
      "cell_type": "code",
      "source": [
        "from google.colab import drive\n",
        "drive.mount('/content/drive')"
      ],
      "metadata": {
        "colab": {
          "base_uri": "https://localhost:8080/"
        },
        "id": "JEwjwJ9u65bB",
        "outputId": "7d61f216-74e7-46ab-f61b-6acd74fa3f76"
      },
      "execution_count": null,
      "outputs": [
        {
          "output_type": "stream",
          "name": "stdout",
          "text": [
            "Drive already mounted at /content/drive; to attempt to forcibly remount, call drive.mount(\"/content/drive\", force_remount=True).\n"
          ]
        }
      ]
    },
    {
      "cell_type": "code",
      "source": [
        "import pandas as pd\n",
        "df_2015 = pd.read_csv('/content/drive/MyDrive/All_Sparcs_Dataset/Hospital_Inpatient_Discharges__SPARCS_De-Identified___2015_20250930.csv')\n",
        "df_2016 = pd.read_csv('/content/drive/MyDrive/All_Sparcs_Dataset/Hospital_Inpatient_Discharges__SPARCS_De-Identified___2016_20250930.csv')\n",
        "df_2017 = pd.read_csv('/content/drive/MyDrive/All_Sparcs_Dataset/Hospital_Inpatient_Discharges__SPARCS_De-Identified___2017_20250930.csv')\n",
        "df_2021 = pd.read_csv('/content/drive/MyDrive/All_Sparcs_Dataset/Hospital_Inpatient_Discharges__SPARCS_De-Identified___2021_20250930.csv')\n",
        "df_2022 = pd.read_csv('/content/drive/MyDrive/All_Sparcs_Dataset/Hospital_Inpatient_Discharges__SPARCS_De-Identified___2022_20250930.csv')\n",
        "df_2023 = pd.read_csv('/content/drive/MyDrive/All_Sparcs_Dataset/Hospital_Inpatient_Discharges__SPARCS_De-Identified___2023_20250930.csv')\n"
      ],
      "metadata": {
        "id": "albSMg9X_Q2M",
        "colab": {
          "base_uri": "https://localhost:8080/"
        },
        "outputId": "eb314f91-0595-41f3-f660-9354c97e9aee"
      },
      "execution_count": null,
      "outputs": [
        {
          "output_type": "stream",
          "name": "stderr",
          "text": [
            "/tmp/ipython-input-4092590647.py:2: DtypeWarning: Columns (10) have mixed types. Specify dtype option on import or set low_memory=False.\n",
            "  df_2015 = pd.read_csv('/content/drive/MyDrive/All_Sparcs_Dataset/Hospital_Inpatient_Discharges__SPARCS_De-Identified___2015_20250930.csv')\n",
            "/tmp/ipython-input-4092590647.py:4: DtypeWarning: Columns (29) have mixed types. Specify dtype option on import or set low_memory=False.\n",
            "  df_2017 = pd.read_csv('/content/drive/MyDrive/All_Sparcs_Dataset/Hospital_Inpatient_Discharges__SPARCS_De-Identified___2017_20250930.csv')\n",
            "/tmp/ipython-input-4092590647.py:6: DtypeWarning: Columns (29) have mixed types. Specify dtype option on import or set low_memory=False.\n",
            "  df_2022 = pd.read_csv('/content/drive/MyDrive/All_Sparcs_Dataset/Hospital_Inpatient_Discharges__SPARCS_De-Identified___2022_20250930.csv')\n"
          ]
        }
      ]
    },
    {
      "cell_type": "code",
      "source": [
        "df_2015.shape, df_2016.shape, df_2017.shape, df_2021.shape, df_2022.shape, df_2023.shape"
      ],
      "metadata": {
        "colab": {
          "base_uri": "https://localhost:8080/"
        },
        "id": "8bXbYLEbw3Zf",
        "outputId": "d6308d6b-5ae3-4c17-c709-c1e07a2a1cc6"
      },
      "execution_count": null,
      "outputs": [
        {
          "output_type": "execute_result",
          "data": {
            "text/plain": [
              "((227196, 34),\n",
              " (224779, 34),\n",
              " (219683, 34),\n",
              " (200794, 33),\n",
              " (198913, 33),\n",
              " (194249, 33))"
            ]
          },
          "metadata": {},
          "execution_count": 6
        }
      ]
    },
    {
      "cell_type": "code",
      "source": [
        "print('Columns for 2015 dataframe:', df_2015.columns)\n",
        "print('Columns for 2016 dataframe:', df_2016.columns)\n",
        "print('Columns for 2017 dataframe:', df_2017.columns)\n",
        "print('Columns for 2021 dataframe:', df_2021.columns)\n",
        "print('Columns for 2022 dataframe:', df_2022.columns)\n",
        "print('Columns for 2023 dataframe:', df_2023.columns)"
      ],
      "metadata": {
        "colab": {
          "base_uri": "https://localhost:8080/"
        },
        "id": "OfZnqd15xtiO",
        "outputId": "d846dbb2-c7d6-4833-9a71-4c60ed1871e7"
      },
      "execution_count": null,
      "outputs": [
        {
          "output_type": "stream",
          "name": "stdout",
          "text": [
            "Columns for 2015 dataframe: Index(['Health Service Area', 'Hospital County',\n",
            "       'Operating Certificate Number', 'Facility Id', 'Facility Name',\n",
            "       'Age Group', 'Zip Code - 3 digits', 'Gender', 'Race', 'Ethnicity',\n",
            "       'Length of Stay', 'Type of Admission', 'Patient Disposition',\n",
            "       'Discharge Year', 'CCS Diagnosis Code', 'CCS Diagnosis Description',\n",
            "       'CCS Procedure Code', 'CCS Procedure Description', 'APR DRG Code',\n",
            "       'APR DRG Description', 'APR MDC Code', 'APR MDC Description',\n",
            "       'APR Severity of Illness Code', 'APR Severity of Illness Description',\n",
            "       'APR Risk of Mortality', 'APR Medical Surgical Description',\n",
            "       'Payment Typology 1', 'Payment Typology 2', 'Payment Typology 3',\n",
            "       'Birth Weight', 'Abortion Edit Indicator',\n",
            "       'Emergency Department Indicator', 'Total Charges', 'Total Costs'],\n",
            "      dtype='object')\n",
            "Columns for 2016 dataframe: Index(['Health Service Area', 'Hospital County',\n",
            "       'Operating Certificate Number', 'Facility Id', 'Facility Name',\n",
            "       'Age Group', 'Zip Code - 3 digits', 'Gender', 'Race', 'Ethnicity',\n",
            "       'Length of Stay', 'Type of Admission', 'Patient Disposition',\n",
            "       'Discharge Year', 'CCS Diagnosis Code', 'CCS Diagnosis Description',\n",
            "       'CCS Procedure Code', 'CCS Procedure Description', 'APR DRG Code',\n",
            "       'APR DRG Description', 'APR MDC Code', 'APR MDC Description',\n",
            "       'APR Severity of Illness Code', 'APR Severity of Illness Description',\n",
            "       'APR Risk of Mortality', 'APR Medical Surgical Description',\n",
            "       'Payment Typology 1', 'Payment Typology 2', 'Payment Typology 3',\n",
            "       'Birth Weight', 'Abortion Edit Indicator',\n",
            "       'Emergency Department Indicator', 'Total Charges', 'Total Costs'],\n",
            "      dtype='object')\n",
            "Columns for 2017 dataframe: Index(['Hospital Service Area', 'Hospital County',\n",
            "       'Operating Certificate Number', 'Permanent Facility Id',\n",
            "       'Facility Name', 'Age Group', 'Zip Code - 3 digits', 'Gender', 'Race',\n",
            "       'Ethnicity', 'Length of Stay', 'Type of Admission',\n",
            "       'Patient Disposition', 'Discharge Year', 'CCS Diagnosis Code',\n",
            "       'CCS Diagnosis Description', 'CCS Procedure Code',\n",
            "       'CCS Procedure Description', 'APR DRG Code', 'APR DRG Description',\n",
            "       'APR MDC Code', 'APR MDC Description', 'APR Severity of Illness Code',\n",
            "       'APR Severity of Illness Description', 'APR Risk of Mortality',\n",
            "       'APR Medical Surgical Description', 'Payment Typology 1',\n",
            "       'Payment Typology 2', 'Payment Typology 3', 'Birth Weight',\n",
            "       'Abortion Edit Indicator', 'Emergency Department Indicator',\n",
            "       'Total Charges', 'Total Costs'],\n",
            "      dtype='object')\n",
            "Columns for 2021 dataframe: Index(['Hospital Service Area', 'Hospital County',\n",
            "       'Operating Certificate Number', 'Permanent Facility Id',\n",
            "       'Facility Name', 'Age Group', 'Zip Code - 3 digits', 'Gender', 'Race',\n",
            "       'Ethnicity', 'Length of Stay', 'Type of Admission',\n",
            "       'Patient Disposition', 'Discharge Year', 'CCSR Diagnosis Code',\n",
            "       'CCSR Diagnosis Description', 'CCSR Procedure Code',\n",
            "       'CCSR Procedure Description', 'APR DRG Code', 'APR DRG Description',\n",
            "       'APR MDC Code', 'APR MDC Description', 'APR Severity of Illness Code',\n",
            "       'APR Severity of Illness Description', 'APR Risk of Mortality',\n",
            "       'APR Medical Surgical Description', 'Payment Typology 1',\n",
            "       'Payment Typology 2', 'Payment Typology 3', 'Birth Weight',\n",
            "       'Emergency Department Indicator', 'Total Charges', 'Total Costs'],\n",
            "      dtype='object')\n",
            "Columns for 2022 dataframe: Index(['Hospital Service Area', 'Hospital County',\n",
            "       'Operating Certificate Number', 'Permanent Facility Id',\n",
            "       'Facility Name', 'Age Group', 'Zip Code - 3 digits', 'Gender', 'Race',\n",
            "       'Ethnicity', 'Length of Stay', 'Type of Admission',\n",
            "       'Patient Disposition', 'Discharge Year', 'CCSR Diagnosis Code',\n",
            "       'CCSR Diagnosis Description', 'CCSR Procedure Code',\n",
            "       'CCSR Procedure Description', 'APR DRG Code', 'APR DRG Description',\n",
            "       'APR MDC Code', 'APR MDC Description', 'APR Severity of Illness Code',\n",
            "       'APR Severity of Illness Description', 'APR Risk of Mortality',\n",
            "       'APR Medical Surgical Description', 'Payment Typology 1',\n",
            "       'Payment Typology 2', 'Payment Typology 3', 'Birth Weight',\n",
            "       'Emergency Department Indicator', 'Total Charges', 'Total Costs'],\n",
            "      dtype='object')\n",
            "Columns for 2023 dataframe: Index(['Hospital Service Area', 'Hospital County',\n",
            "       'Operating Certificate Number', 'Permanent Facility Id',\n",
            "       'Facility Name', 'Age Group', 'Zip Code - 3 digits', 'Gender', 'Race',\n",
            "       'Ethnicity', 'Length of Stay', 'Type of Admission',\n",
            "       'Patient Disposition', 'Discharge Year', 'CCSR Diagnosis Code',\n",
            "       'CCSR Diagnosis Description', 'CCSR Procedure Code',\n",
            "       'CCSR Procedure Description', 'APR DRG Code', 'APR DRG Description',\n",
            "       'APR MDC Code', 'APR MDC Description', 'APR Severity of Illness Code',\n",
            "       'APR Severity of Illness Description', 'APR Risk of Mortality',\n",
            "       'APR Medical Surgical Description', 'Payment Typology 1',\n",
            "       'Payment Typology 2', 'Payment Typology 3', 'Birth Weight',\n",
            "       'Emergency Department Indicator', 'Total Charges', 'Total Costs'],\n",
            "      dtype='object')\n"
          ]
        }
      ]
    },
    {
      "cell_type": "code",
      "source": [
        "import pandas as pd\n",
        "import numpy as np\n",
        "import matplotlib.pyplot as plt\n",
        "import seaborn as sns\n",
        "import warnings\n",
        "warnings.filterwarnings('ignore')"
      ],
      "metadata": {
        "id": "qEVZ1NUIFiFH"
      },
      "execution_count": null,
      "outputs": []
    },
    {
      "cell_type": "code",
      "source": [
        "col_mapping = {\n",
        "    'CCS Diagnosis Code' : 'CCSR Diagnosis Code',\n",
        "    'CCS Diagnosis Description': 'CCSR Diagnosis Description',\n",
        "    'CCS Procedure Code': 'CCSR Procedure Code',\n",
        "    'CCS Procedure Description': 'CCSR Procedure Description',\n",
        "    'Facility Id' : 'Permanent Facility Id',\n",
        "    'Health Service Area' : 'Hospital Service Area'\n",
        "}"
      ],
      "metadata": {
        "id": "aSlPVJrk3rlA"
      },
      "execution_count": null,
      "outputs": []
    },
    {
      "cell_type": "code",
      "source": [
        "df_2015.rename(columns = col_mapping, inplace = True)\n",
        "df_2016.rename(columns = col_mapping, inplace = True)\n",
        "df_2017.rename(columns = col_mapping, inplace=True)"
      ],
      "metadata": {
        "id": "C0LqarKj8UDl"
      },
      "execution_count": null,
      "outputs": []
    },
    {
      "cell_type": "code",
      "source": [
        "df_2015.drop(columns=['Abortion Edit Indicator'], inplace=True)\n",
        "df_2016.drop(columns=['Abortion Edit Indicator'], inplace=True)\n",
        "df_2017.drop(columns=['Abortion Edit Indicator'], inplace=True)"
      ],
      "metadata": {
        "colab": {
          "base_uri": "https://localhost:8080/",
          "height": 321
        },
        "id": "ro5PfPyM9MkZ",
        "outputId": "19a3dd1a-e7c0-4dbf-d5fe-e3cb62df951d"
      },
      "execution_count": null,
      "outputs": [
        {
          "output_type": "error",
          "ename": "KeyError",
          "evalue": "\"['Abortion Edit Indicator'] not found in axis\"",
          "traceback": [
            "\u001b[0;31m---------------------------------------------------------------------------\u001b[0m",
            "\u001b[0;31mKeyError\u001b[0m                                  Traceback (most recent call last)",
            "\u001b[0;32m/tmp/ipython-input-3119367142.py\u001b[0m in \u001b[0;36m<cell line: 0>\u001b[0;34m()\u001b[0m\n\u001b[0;32m----> 1\u001b[0;31m \u001b[0mdf_2015\u001b[0m\u001b[0;34m.\u001b[0m\u001b[0mdrop\u001b[0m\u001b[0;34m(\u001b[0m\u001b[0mcolumns\u001b[0m\u001b[0;34m=\u001b[0m\u001b[0;34m[\u001b[0m\u001b[0;34m'Abortion Edit Indicator'\u001b[0m\u001b[0;34m]\u001b[0m\u001b[0;34m,\u001b[0m \u001b[0minplace\u001b[0m\u001b[0;34m=\u001b[0m\u001b[0;32mTrue\u001b[0m\u001b[0;34m)\u001b[0m\u001b[0;34m\u001b[0m\u001b[0;34m\u001b[0m\u001b[0m\n\u001b[0m\u001b[1;32m      2\u001b[0m \u001b[0mdf_2016\u001b[0m\u001b[0;34m.\u001b[0m\u001b[0mdrop\u001b[0m\u001b[0;34m(\u001b[0m\u001b[0mcolumns\u001b[0m\u001b[0;34m=\u001b[0m\u001b[0;34m[\u001b[0m\u001b[0;34m'Abortion Edit Indicator'\u001b[0m\u001b[0;34m]\u001b[0m\u001b[0;34m,\u001b[0m \u001b[0minplace\u001b[0m\u001b[0;34m=\u001b[0m\u001b[0;32mTrue\u001b[0m\u001b[0;34m)\u001b[0m\u001b[0;34m\u001b[0m\u001b[0;34m\u001b[0m\u001b[0m\n\u001b[1;32m      3\u001b[0m \u001b[0mdf_2017\u001b[0m\u001b[0;34m.\u001b[0m\u001b[0mdrop\u001b[0m\u001b[0;34m(\u001b[0m\u001b[0mcolumns\u001b[0m\u001b[0;34m=\u001b[0m\u001b[0;34m[\u001b[0m\u001b[0;34m'Abortion Edit Indicator'\u001b[0m\u001b[0;34m]\u001b[0m\u001b[0;34m,\u001b[0m \u001b[0minplace\u001b[0m\u001b[0;34m=\u001b[0m\u001b[0;32mTrue\u001b[0m\u001b[0;34m)\u001b[0m\u001b[0;34m\u001b[0m\u001b[0;34m\u001b[0m\u001b[0m\n",
            "\u001b[0;32m/usr/local/lib/python3.12/dist-packages/pandas/core/frame.py\u001b[0m in \u001b[0;36mdrop\u001b[0;34m(self, labels, axis, index, columns, level, inplace, errors)\u001b[0m\n\u001b[1;32m   5579\u001b[0m                 \u001b[0mweight\u001b[0m  \u001b[0;36m1.0\u001b[0m     \u001b[0;36m0.8\u001b[0m\u001b[0;34m\u001b[0m\u001b[0;34m\u001b[0m\u001b[0m\n\u001b[1;32m   5580\u001b[0m         \"\"\"\n\u001b[0;32m-> 5581\u001b[0;31m         return super().drop(\n\u001b[0m\u001b[1;32m   5582\u001b[0m             \u001b[0mlabels\u001b[0m\u001b[0;34m=\u001b[0m\u001b[0mlabels\u001b[0m\u001b[0;34m,\u001b[0m\u001b[0;34m\u001b[0m\u001b[0;34m\u001b[0m\u001b[0m\n\u001b[1;32m   5583\u001b[0m             \u001b[0maxis\u001b[0m\u001b[0;34m=\u001b[0m\u001b[0maxis\u001b[0m\u001b[0;34m,\u001b[0m\u001b[0;34m\u001b[0m\u001b[0;34m\u001b[0m\u001b[0m\n",
            "\u001b[0;32m/usr/local/lib/python3.12/dist-packages/pandas/core/generic.py\u001b[0m in \u001b[0;36mdrop\u001b[0;34m(self, labels, axis, index, columns, level, inplace, errors)\u001b[0m\n\u001b[1;32m   4786\u001b[0m         \u001b[0;32mfor\u001b[0m \u001b[0maxis\u001b[0m\u001b[0;34m,\u001b[0m \u001b[0mlabels\u001b[0m \u001b[0;32min\u001b[0m \u001b[0maxes\u001b[0m\u001b[0;34m.\u001b[0m\u001b[0mitems\u001b[0m\u001b[0;34m(\u001b[0m\u001b[0;34m)\u001b[0m\u001b[0;34m:\u001b[0m\u001b[0;34m\u001b[0m\u001b[0;34m\u001b[0m\u001b[0m\n\u001b[1;32m   4787\u001b[0m             \u001b[0;32mif\u001b[0m \u001b[0mlabels\u001b[0m \u001b[0;32mis\u001b[0m \u001b[0;32mnot\u001b[0m \u001b[0;32mNone\u001b[0m\u001b[0;34m:\u001b[0m\u001b[0;34m\u001b[0m\u001b[0;34m\u001b[0m\u001b[0m\n\u001b[0;32m-> 4788\u001b[0;31m                 \u001b[0mobj\u001b[0m \u001b[0;34m=\u001b[0m \u001b[0mobj\u001b[0m\u001b[0;34m.\u001b[0m\u001b[0m_drop_axis\u001b[0m\u001b[0;34m(\u001b[0m\u001b[0mlabels\u001b[0m\u001b[0;34m,\u001b[0m \u001b[0maxis\u001b[0m\u001b[0;34m,\u001b[0m \u001b[0mlevel\u001b[0m\u001b[0;34m=\u001b[0m\u001b[0mlevel\u001b[0m\u001b[0;34m,\u001b[0m \u001b[0merrors\u001b[0m\u001b[0;34m=\u001b[0m\u001b[0merrors\u001b[0m\u001b[0;34m)\u001b[0m\u001b[0;34m\u001b[0m\u001b[0;34m\u001b[0m\u001b[0m\n\u001b[0m\u001b[1;32m   4789\u001b[0m \u001b[0;34m\u001b[0m\u001b[0m\n\u001b[1;32m   4790\u001b[0m         \u001b[0;32mif\u001b[0m \u001b[0minplace\u001b[0m\u001b[0;34m:\u001b[0m\u001b[0;34m\u001b[0m\u001b[0;34m\u001b[0m\u001b[0m\n",
            "\u001b[0;32m/usr/local/lib/python3.12/dist-packages/pandas/core/generic.py\u001b[0m in \u001b[0;36m_drop_axis\u001b[0;34m(self, labels, axis, level, errors, only_slice)\u001b[0m\n\u001b[1;32m   4828\u001b[0m                 \u001b[0mnew_axis\u001b[0m \u001b[0;34m=\u001b[0m \u001b[0maxis\u001b[0m\u001b[0;34m.\u001b[0m\u001b[0mdrop\u001b[0m\u001b[0;34m(\u001b[0m\u001b[0mlabels\u001b[0m\u001b[0;34m,\u001b[0m \u001b[0mlevel\u001b[0m\u001b[0;34m=\u001b[0m\u001b[0mlevel\u001b[0m\u001b[0;34m,\u001b[0m \u001b[0merrors\u001b[0m\u001b[0;34m=\u001b[0m\u001b[0merrors\u001b[0m\u001b[0;34m)\u001b[0m\u001b[0;34m\u001b[0m\u001b[0;34m\u001b[0m\u001b[0m\n\u001b[1;32m   4829\u001b[0m             \u001b[0;32melse\u001b[0m\u001b[0;34m:\u001b[0m\u001b[0;34m\u001b[0m\u001b[0;34m\u001b[0m\u001b[0m\n\u001b[0;32m-> 4830\u001b[0;31m                 \u001b[0mnew_axis\u001b[0m \u001b[0;34m=\u001b[0m \u001b[0maxis\u001b[0m\u001b[0;34m.\u001b[0m\u001b[0mdrop\u001b[0m\u001b[0;34m(\u001b[0m\u001b[0mlabels\u001b[0m\u001b[0;34m,\u001b[0m \u001b[0merrors\u001b[0m\u001b[0;34m=\u001b[0m\u001b[0merrors\u001b[0m\u001b[0;34m)\u001b[0m\u001b[0;34m\u001b[0m\u001b[0;34m\u001b[0m\u001b[0m\n\u001b[0m\u001b[1;32m   4831\u001b[0m             \u001b[0mindexer\u001b[0m \u001b[0;34m=\u001b[0m \u001b[0maxis\u001b[0m\u001b[0;34m.\u001b[0m\u001b[0mget_indexer\u001b[0m\u001b[0;34m(\u001b[0m\u001b[0mnew_axis\u001b[0m\u001b[0;34m)\u001b[0m\u001b[0;34m\u001b[0m\u001b[0;34m\u001b[0m\u001b[0m\n\u001b[1;32m   4832\u001b[0m \u001b[0;34m\u001b[0m\u001b[0m\n",
            "\u001b[0;32m/usr/local/lib/python3.12/dist-packages/pandas/core/indexes/base.py\u001b[0m in \u001b[0;36mdrop\u001b[0;34m(self, labels, errors)\u001b[0m\n\u001b[1;32m   7068\u001b[0m         \u001b[0;32mif\u001b[0m \u001b[0mmask\u001b[0m\u001b[0;34m.\u001b[0m\u001b[0many\u001b[0m\u001b[0;34m(\u001b[0m\u001b[0;34m)\u001b[0m\u001b[0;34m:\u001b[0m\u001b[0;34m\u001b[0m\u001b[0;34m\u001b[0m\u001b[0m\n\u001b[1;32m   7069\u001b[0m             \u001b[0;32mif\u001b[0m \u001b[0merrors\u001b[0m \u001b[0;34m!=\u001b[0m \u001b[0;34m\"ignore\"\u001b[0m\u001b[0;34m:\u001b[0m\u001b[0;34m\u001b[0m\u001b[0;34m\u001b[0m\u001b[0m\n\u001b[0;32m-> 7070\u001b[0;31m                 \u001b[0;32mraise\u001b[0m \u001b[0mKeyError\u001b[0m\u001b[0;34m(\u001b[0m\u001b[0;34mf\"{labels[mask].tolist()} not found in axis\"\u001b[0m\u001b[0;34m)\u001b[0m\u001b[0;34m\u001b[0m\u001b[0;34m\u001b[0m\u001b[0m\n\u001b[0m\u001b[1;32m   7071\u001b[0m             \u001b[0mindexer\u001b[0m \u001b[0;34m=\u001b[0m \u001b[0mindexer\u001b[0m\u001b[0;34m[\u001b[0m\u001b[0;34m~\u001b[0m\u001b[0mmask\u001b[0m\u001b[0;34m]\u001b[0m\u001b[0;34m\u001b[0m\u001b[0;34m\u001b[0m\u001b[0m\n\u001b[1;32m   7072\u001b[0m         \u001b[0;32mreturn\u001b[0m \u001b[0mself\u001b[0m\u001b[0;34m.\u001b[0m\u001b[0mdelete\u001b[0m\u001b[0;34m(\u001b[0m\u001b[0mindexer\u001b[0m\u001b[0;34m)\u001b[0m\u001b[0;34m\u001b[0m\u001b[0;34m\u001b[0m\u001b[0m\n",
            "\u001b[0;31mKeyError\u001b[0m: \"['Abortion Edit Indicator'] not found in axis\""
          ]
        }
      ]
    },
    {
      "cell_type": "code",
      "source": [
        "print('Columns for 2015 dataframe:', df_2015.columns)\n",
        "print('Columns for 2016 dataframe:', df_2016.columns)\n",
        "print('Columns for 2017 dataframe:', df_2017.columns)"
      ],
      "metadata": {
        "colab": {
          "base_uri": "https://localhost:8080/"
        },
        "id": "WYX8XjwW9aDC",
        "outputId": "7d5c4e47-8408-4a35-8367-d54cff62d38d"
      },
      "execution_count": null,
      "outputs": [
        {
          "output_type": "stream",
          "name": "stdout",
          "text": [
            "Columns for 2015 dataframe: Index(['Hospital Service Area', 'Hospital County',\n",
            "       'Operating Certificate Number', 'Permanent Facility Id',\n",
            "       'Facility Name', 'Age Group', 'Zip Code - 3 digits', 'Gender', 'Race',\n",
            "       'Ethnicity', 'Length of Stay', 'Type of Admission',\n",
            "       'Patient Disposition', 'Discharge Year', 'CCSR Diagnosis Code',\n",
            "       'CCSR Diagnosis Description', 'CCSR Procedure Code',\n",
            "       'CCSR Procedure Description', 'APR DRG Code', 'APR DRG Description',\n",
            "       'APR MDC Code', 'APR MDC Description', 'APR Severity of Illness Code',\n",
            "       'APR Severity of Illness Description', 'APR Risk of Mortality',\n",
            "       'APR Medical Surgical Description', 'Payment Typology 1',\n",
            "       'Payment Typology 2', 'Payment Typology 3', 'Birth Weight',\n",
            "       'Emergency Department Indicator', 'Total Charges', 'Total Costs'],\n",
            "      dtype='object')\n",
            "Columns for 2016 dataframe: Index(['Hospital Service Area', 'Hospital County',\n",
            "       'Operating Certificate Number', 'Permanent Facility Id',\n",
            "       'Facility Name', 'Age Group', 'Zip Code - 3 digits', 'Gender', 'Race',\n",
            "       'Ethnicity', 'Length of Stay', 'Type of Admission',\n",
            "       'Patient Disposition', 'Discharge Year', 'CCSR Diagnosis Code',\n",
            "       'CCSR Diagnosis Description', 'CCSR Procedure Code',\n",
            "       'CCSR Procedure Description', 'APR DRG Code', 'APR DRG Description',\n",
            "       'APR MDC Code', 'APR MDC Description', 'APR Severity of Illness Code',\n",
            "       'APR Severity of Illness Description', 'APR Risk of Mortality',\n",
            "       'APR Medical Surgical Description', 'Payment Typology 1',\n",
            "       'Payment Typology 2', 'Payment Typology 3', 'Birth Weight',\n",
            "       'Emergency Department Indicator', 'Total Charges', 'Total Costs'],\n",
            "      dtype='object')\n",
            "Columns for 2017 dataframe: Index(['Hospital Service Area', 'Hospital County',\n",
            "       'Operating Certificate Number', 'Permanent Facility Id',\n",
            "       'Facility Name', 'Age Group', 'Zip Code - 3 digits', 'Gender', 'Race',\n",
            "       'Ethnicity', 'Length of Stay', 'Type of Admission',\n",
            "       'Patient Disposition', 'Discharge Year', 'CCSR Diagnosis Code',\n",
            "       'CCSR Diagnosis Description', 'CCSR Procedure Code',\n",
            "       'CCSR Procedure Description', 'APR DRG Code', 'APR DRG Description',\n",
            "       'APR MDC Code', 'APR MDC Description', 'APR Severity of Illness Code',\n",
            "       'APR Severity of Illness Description', 'APR Risk of Mortality',\n",
            "       'APR Medical Surgical Description', 'Payment Typology 1',\n",
            "       'Payment Typology 2', 'Payment Typology 3', 'Birth Weight',\n",
            "       'Emergency Department Indicator', 'Total Charges', 'Total Costs'],\n",
            "      dtype='object')\n"
          ]
        }
      ]
    },
    {
      "cell_type": "code",
      "source": [
        "# Columns only in df_2016 and not in df_2021\n",
        "print(set(df_2016.columns) - set(df_2021.columns))\n",
        "\n",
        "# Columns only in df_2021 and not in df_2016\n",
        "print(set(df_2021.columns) - set(df_2016.columns))"
      ],
      "metadata": {
        "colab": {
          "base_uri": "https://localhost:8080/"
        },
        "id": "dZhJRKgg-cf7",
        "outputId": "7e8870d8-ae44-4d93-ccfe-eb5e02cfc3b9"
      },
      "execution_count": null,
      "outputs": [
        {
          "output_type": "stream",
          "name": "stdout",
          "text": [
            "set()\n",
            "set()\n"
          ]
        }
      ]
    },
    {
      "cell_type": "markdown",
      "source": [
        "Finally concatenating the datasets ."
      ],
      "metadata": {
        "id": "UFmHpTXbMsnv"
      }
    },
    {
      "cell_type": "code",
      "source": [
        "df = pd.concat([df_2015,df_2016, df_2017,df_2021,df_2022, df_2023], ignore_index=True, sort=False)"
      ],
      "metadata": {
        "id": "Mx3mEB5M-7FF"
      },
      "execution_count": null,
      "outputs": []
    },
    {
      "cell_type": "code",
      "source": [
        "# Checking Years data if merged properly\n",
        "df['Discharge Year'].value_counts().plot.bar()\n",
        "plt.title(\"Year on Year Newborn Data in New York City\")\n",
        "plt.show()"
      ],
      "metadata": {
        "colab": {
          "base_uri": "https://localhost:8080/",
          "height": 493
        },
        "id": "LibWN9CAFoX4",
        "outputId": "3f110ae4-c1a4-4e42-bff4-3a71e5f54062"
      },
      "execution_count": null,
      "outputs": [
        {
          "output_type": "display_data",
          "data": {
            "text/plain": [
              "<Figure size 640x480 with 1 Axes>"
            ],
            "image/png": "[encoded data removed]"
          },
          "metadata": {}
        }
      ]
    },
    {
      "cell_type": "markdown",
      "source": [
        "Clearly there is a decreasing trend for newborns in New York"
      ],
      "metadata": {
        "id": "41ZA6oxXM8P_"
      }
    },
    {
      "cell_type": "code",
      "source": [
        "df.isna().sum() # checking how many missing values are there for each col"
      ],
      "metadata": {
        "colab": {
          "base_uri": "https://localhost:8080/",
          "height": 1000
        },
        "id": "J0qCzR0FDVWf",
        "outputId": "336a6576-1109-4a27-e4ee-9d222e539a20"
      },
      "execution_count": null,
      "outputs": [
        {
          "output_type": "execute_result",
          "data": {
            "text/plain": [
              "Hospital Service Area                     1438\n",
              "Hospital County                           1438\n",
              "Operating Certificate Number              1438\n",
              "Permanent Facility Id                     1438\n",
              "Facility Name                                0\n",
              "Age Group                                    0\n",
              "Zip Code - 3 digits                      18727\n",
              "Gender                                       0\n",
              "Race                                         0\n",
              "Ethnicity                                    0\n",
              "Length of Stay                               0\n",
              "Type of Admission                            0\n",
              "Patient Disposition                          0\n",
              "Discharge Year                               0\n",
              "CCSR Diagnosis Code                          0\n",
              "CCSR Diagnosis Description                   0\n",
              "CCSR Procedure Code                     181757\n",
              "CCSR Procedure Description              181757\n",
              "APR DRG Code                                 0\n",
              "APR DRG Description                          0\n",
              "APR MDC Code                                 0\n",
              "APR MDC Description                          0\n",
              "APR Severity of Illness Code                 0\n",
              "APR Severity of Illness Description        527\n",
              "APR Risk of Mortality                      527\n",
              "APR Medical Surgical Description             0\n",
              "Payment Typology 1                           0\n",
              "Payment Typology 2                      747372\n",
              "Payment Typology 3                     1071516\n",
              "Birth Weight                               305\n",
              "Emergency Department Indicator               0\n",
              "Total Charges                                0\n",
              "Total Costs                                  0\n",
              "dtype: int64"
            ],
            "text/html": [
              "<div>\n",
              "<style scoped>\n",
              "    .dataframe tbody tr th:only-of-type {\n",
              "        vertical-align: middle;\n",
              "    }\n",
              "\n",
              "    .dataframe tbody tr th {\n",
              "        vertical-align: top;\n",
              "    }\n",
              "\n",
              "    .dataframe thead th {\n",
              "        text-align: right;\n",
              "    }\n",
              "</style>\n",
              "<table border=\"1\" class=\"dataframe\">\n",
              "  <thead>\n",
              "    <tr style=\"text-align: right;\">\n",
              "      <th></th>\n",
              "      <th>0</th>\n",
              "    </tr>\n",
              "  </thead>\n",
              "  <tbody>\n",
              "    <tr>\n",
              "      <th>Hospital Service Area</th>\n",
              "      <td>1438</td>\n",
              "    </tr>\n",
              "    <tr>\n",
              "      <th>Hospital County</th>\n",
              "      <td>1438</td>\n",
              "    </tr>\n",
              "    <tr>\n",
              "      <th>Operating Certificate Number</th>\n",
              "      <td>1438</td>\n",
              "    </tr>\n",
              "    <tr>\n",
              "      <th>Permanent Facility Id</th>\n",
              "      <td>1438</td>\n",
              "    </tr>\n",
              "    <tr>\n",
              "      <th>Facility Name</th>\n",
              "      <td>0</td>\n",
              "    </tr>\n",
              "    <tr>\n",
              "      <th>Age Group</th>\n",
              "      <td>0</td>\n",
              "    </tr>\n",
              "    <tr>\n",
              "      <th>Zip Code - 3 digits</th>\n",
              "      <td>18727</td>\n",
              "    </tr>\n",
              "    <tr>\n",
              "      <th>Gender</th>\n",
              "      <td>0</td>\n",
              "    </tr>\n",
              "    <tr>\n",
              "      <th>Race</th>\n",
              "      <td>0</td>\n",
              "    </tr>\n",
              "    <tr>\n",
              "      <th>Ethnicity</th>\n",
              "      <td>0</td>\n",
              "    </tr>\n",
              "    <tr>\n",
              "      <th>Length of Stay</th>\n",
              "      <td>0</td>\n",
              "    </tr>\n",
              "    <tr>\n",
              "      <th>Type of Admission</th>\n",
              "      <td>0</td>\n",
              "    </tr>\n",
              "    <tr>\n",
              "      <th>Patient Disposition</th>\n",
              "      <td>0</td>\n",
              "    </tr>\n",
              "    <tr>\n",
              "      <th>Discharge Year</th>\n",
              "      <td>0</td>\n",
              "    </tr>\n",
              "    <tr>\n",
              "      <th>CCSR Diagnosis Code</th>\n",
              "      <td>0</td>\n",
              "    </tr>\n",
              "    <tr>\n",
              "      <th>CCSR Diagnosis Description</th>\n",
              "      <td>0</td>\n",
              "    </tr>\n",
              "    <tr>\n",
              "      <th>CCSR Procedure Code</th>\n",
              "      <td>181757</td>\n",
              "    </tr>\n",
              "    <tr>\n",
              "      <th>CCSR Procedure Description</th>\n",
              "      <td>181757</td>\n",
              "    </tr>\n",
              "    <tr>\n",
              "      <th>APR DRG Code</th>\n",
              "      <td>0</td>\n",
              "    </tr>\n",
              "    <tr>\n",
              "      <th>APR DRG Description</th>\n",
              "      <td>0</td>\n",
              "    </tr>\n",
              "    <tr>\n",
              "      <th>APR MDC Code</th>\n",
              "      <td>0</td>\n",
              "    </tr>\n",
              "    <tr>\n",
              "      <th>APR MDC Description</th>\n",
              "      <td>0</td>\n",
              "    </tr>\n",
              "    <tr>\n",
              "      <th>APR Severity of Illness Code</th>\n",
              "      <td>0</td>\n",
              "    </tr>\n",
              "    <tr>\n",
              "      <th>APR Severity of Illness Description</th>\n",
              "      <td>527</td>\n",
              "    </tr>\n",
              "    <tr>\n",
              "      <th>APR Risk of Mortality</th>\n",
              "      <td>527</td>\n",
              "    </tr>\n",
              "    <tr>\n",
              "      <th>APR Medical Surgical Description</th>\n",
              "      <td>0</td>\n",
              "    </tr>\n",
              "    <tr>\n",
              "      <th>Payment Typology 1</th>\n",
              "      <td>0</td>\n",
              "    </tr>\n",
              "    <tr>\n",
              "      <th>Payment Typology 2</th>\n",
              "      <td>747372</td>\n",
              "    </tr>\n",
              "    <tr>\n",
              "      <th>Payment Typology 3</th>\n",
              "      <td>1071516</td>\n",
              "    </tr>\n",
              "    <tr>\n",
              "      <th>Birth Weight</th>\n",
              "      <td>305</td>\n",
              "    </tr>\n",
              "    <tr>\n",
              "      <th>Emergency Department Indicator</th>\n",
              "      <td>0</td>\n",
              "    </tr>\n",
              "    <tr>\n",
              "      <th>Total Charges</th>\n",
              "      <td>0</td>\n",
              "    </tr>\n",
              "    <tr>\n",
              "      <th>Total Costs</th>\n",
              "      <td>0</td>\n",
              "    </tr>\n",
              "  </tbody>\n",
              "</table>\n",
              "</div><br><label><b>dtype:</b> int64</label>"
            ]
          },
          "metadata": {},
          "execution_count": 24
        }
      ]
    },
    {
      "cell_type": "markdown",
      "source": [
        "fixing the problems in the cols that have different datatypes or any other discrepancies"
      ],
      "metadata": {
        "id": "-VRzQMg0NJ13"
      }
    },
    {
      "cell_type": "code",
      "source": [
        "df['CCSR Diagnosis Code'] = df['CCSR Diagnosis Code'].astype(str)"
      ],
      "metadata": {
        "id": "DvPJaY0QHwtx"
      },
      "execution_count": null,
      "outputs": []
    },
    {
      "cell_type": "code",
      "source": [
        "df.shape"
      ],
      "metadata": {
        "colab": {
          "base_uri": "https://localhost:8080/"
        },
        "id": "jGrd7Uk8BAbv",
        "outputId": "48b01f09-2f6a-4f9b-a02c-4320b101f65a"
      },
      "execution_count": null,
      "outputs": [
        {
          "output_type": "execute_result",
          "data": {
            "text/plain": [
              "(1265614, 33)"
            ]
          },
          "metadata": {},
          "execution_count": 28
        }
      ]
    },
    {
      "cell_type": "code",
      "source": [
        "# Data type conversion , also for values 120+ marking as 120\n",
        "df['Length of Stay']=df['Length of Stay'].apply(lambda x: 120 if x=='120 +' else x)\n",
        "df['Length of Stay']=df[\"Length of Stay\"].astype(\"int64\")"
      ],
      "metadata": {
        "id": "K1E3oTafBIOi"
      },
      "execution_count": null,
      "outputs": []
    },
    {
      "cell_type": "code",
      "source": [
        "df['CCSR Procedure Code'] = df['CCSR Procedure Code'].astype(str)"
      ],
      "metadata": {
        "id": "D1uhIKeiH20I"
      },
      "execution_count": null,
      "outputs": []
    },
    {
      "cell_type": "code",
      "source": [
        "df.info()"
      ],
      "metadata": {
        "colab": {
          "base_uri": "https://localhost:8080/"
        },
        "id": "Gvg1KfUyJetp",
        "outputId": "7204eb71-ec07-490b-8fc1-5411dbaf258c"
      },
      "execution_count": null,
      "outputs": [
        {
          "output_type": "stream",
          "name": "stdout",
          "text": [
            "<class 'pandas.core.frame.DataFrame'>\n",
            "RangeIndex: 1265614 entries, 0 to 1265613\n",
            "Data columns (total 33 columns):\n",
            " #   Column                               Non-Null Count    Dtype  \n",
            "---  ------                               --------------    -----  \n",
            " 0   Hospital Service Area                1264176 non-null  object \n",
            " 1   Hospital County                      1264176 non-null  object \n",
            " 2   Operating Certificate Number         1264176 non-null  float64\n",
            " 3   Permanent Facility Id                1264176 non-null  float64\n",
            " 4   Facility Name                        1265614 non-null  object \n",
            " 5   Age Group                            1265614 non-null  object \n",
            " 6   Zip Code - 3 digits                  1246887 non-null  object \n",
            " 7   Gender                               1265614 non-null  object \n",
            " 8   Race                                 1265614 non-null  object \n",
            " 9   Ethnicity                            1265614 non-null  object \n",
            " 10  Length of Stay                       1265614 non-null  int64  \n",
            " 11  Type of Admission                    1265614 non-null  object \n",
            " 12  Patient Disposition                  1265614 non-null  object \n",
            " 13  Discharge Year                       1265614 non-null  int64  \n",
            " 14  CCSR Diagnosis Code                  1265614 non-null  object \n",
            " 15  CCSR Diagnosis Description           1265614 non-null  object \n",
            " 16  CCSR Procedure Code                  1265614 non-null  object \n",
            " 17  CCSR Procedure Description           1083857 non-null  object \n",
            " 18  APR DRG Code                         1265614 non-null  int64  \n",
            " 19  APR DRG Description                  1265614 non-null  object \n",
            " 20  APR MDC Code                         1265614 non-null  int64  \n",
            " 21  APR MDC Description                  1265614 non-null  object \n",
            " 22  APR Severity of Illness Code         1265614 non-null  int64  \n",
            " 23  APR Severity of Illness Description  1265087 non-null  object \n",
            " 24  APR Risk of Mortality                1265087 non-null  object \n",
            " 25  APR Medical Surgical Description     1265614 non-null  object \n",
            " 26  Payment Typology 1                   1265614 non-null  object \n",
            " 27  Payment Typology 2                   518242 non-null   object \n",
            " 28  Payment Typology 3                   194098 non-null   object \n",
            " 29  Birth Weight                         1265309 non-null  object \n",
            " 30  Emergency Department Indicator       1265614 non-null  object \n",
            " 31  Total Charges                        1265614 non-null  object \n",
            " 32  Total Costs                          1265614 non-null  object \n",
            "dtypes: float64(2), int64(5), object(26)\n",
            "memory usage: 318.6+ MB\n"
          ]
        }
      ]
    },
    {
      "cell_type": "markdown",
      "source": [
        "Fixing birth weight column"
      ],
      "metadata": {
        "id": "ObnMmtgqRJjE"
      }
    },
    {
      "cell_type": "code",
      "source": [
        "df['Birth Weight'].info()"
      ],
      "metadata": {
        "colab": {
          "base_uri": "https://localhost:8080/"
        },
        "id": "-fg8OSs7KUpY",
        "outputId": "1d115ad9-5a55-4945-c4e9-2cc4d8e87939"
      },
      "execution_count": null,
      "outputs": [
        {
          "output_type": "stream",
          "name": "stdout",
          "text": [
            "<class 'pandas.core.series.Series'>\n",
            "RangeIndex: 1265614 entries, 0 to 1265613\n",
            "Series name: Birth Weight\n",
            "Non-Null Count    Dtype \n",
            "--------------    ----- \n",
            "1265309 non-null  object\n",
            "dtypes: object(1)\n",
            "memory usage: 9.7+ MB\n"
          ]
        }
      ]
    },
    {
      "cell_type": "code",
      "source": [
        "df['Birth Weight'].value_counts() # checking birth weight discrepancies as its creating a problem"
      ],
      "metadata": {
        "colab": {
          "base_uri": "https://localhost:8080/",
          "height": 489
        },
        "id": "x7TQq_ufKubW",
        "outputId": "1096df35-51cc-4b2b-e043-193f97f69e6a"
      },
      "execution_count": null,
      "outputs": [
        {
          "output_type": "execute_result",
          "data": {
            "text/plain": [
              "Birth Weight\n",
              "03200    54981\n",
              "03300    54116\n",
              "03400    52391\n",
              "03100    52043\n",
              "3200     49797\n",
              "         ...  \n",
              "09800        1\n",
              "07400        1\n",
              "07700        1\n",
              "06600        1\n",
              "09400        1\n",
              "Name: count, Length: 171, dtype: int64"
            ],
            "text/html": [
              "<div>\n",
              "<style scoped>\n",
              "    .dataframe tbody tr th:only-of-type {\n",
              "        vertical-align: middle;\n",
              "    }\n",
              "\n",
              "    .dataframe tbody tr th {\n",
              "        vertical-align: top;\n",
              "    }\n",
              "\n",
              "    .dataframe thead th {\n",
              "        text-align: right;\n",
              "    }\n",
              "</style>\n",
              "<table border=\"1\" class=\"dataframe\">\n",
              "  <thead>\n",
              "    <tr style=\"text-align: right;\">\n",
              "      <th></th>\n",
              "      <th>count</th>\n",
              "    </tr>\n",
              "    <tr>\n",
              "      <th>Birth Weight</th>\n",
              "      <th></th>\n",
              "    </tr>\n",
              "  </thead>\n",
              "  <tbody>\n",
              "    <tr>\n",
              "      <th>03200</th>\n",
              "      <td>54981</td>\n",
              "    </tr>\n",
              "    <tr>\n",
              "      <th>03300</th>\n",
              "      <td>54116</td>\n",
              "    </tr>\n",
              "    <tr>\n",
              "      <th>03400</th>\n",
              "      <td>52391</td>\n",
              "    </tr>\n",
              "    <tr>\n",
              "      <th>03100</th>\n",
              "      <td>52043</td>\n",
              "    </tr>\n",
              "    <tr>\n",
              "      <th>3200</th>\n",
              "      <td>49797</td>\n",
              "    </tr>\n",
              "    <tr>\n",
              "      <th>...</th>\n",
              "      <td>...</td>\n",
              "    </tr>\n",
              "    <tr>\n",
              "      <th>09800</th>\n",
              "      <td>1</td>\n",
              "    </tr>\n",
              "    <tr>\n",
              "      <th>07400</th>\n",
              "      <td>1</td>\n",
              "    </tr>\n",
              "    <tr>\n",
              "      <th>07700</th>\n",
              "      <td>1</td>\n",
              "    </tr>\n",
              "    <tr>\n",
              "      <th>06600</th>\n",
              "      <td>1</td>\n",
              "    </tr>\n",
              "    <tr>\n",
              "      <th>09400</th>\n",
              "      <td>1</td>\n",
              "    </tr>\n",
              "  </tbody>\n",
              "</table>\n",
              "<p>171 rows × 1 columns</p>\n",
              "</div><br><label><b>dtype:</b> int64</label>"
            ]
          },
          "metadata": {},
          "execution_count": 34
        }
      ]
    },
    {
      "cell_type": "code",
      "source": [
        "# Replacing UNKN with 0 and NAN with 0\n",
        "df['Birth Weight']=df['Birth Weight'].apply(lambda x:0 if x=='UNKN' else x)\n",
        "df['Birth Weight']=df['Birth Weight'].fillna('0')"
      ],
      "metadata": {
        "id": "OWXFQ35LLdzx"
      },
      "execution_count": null,
      "outputs": []
    },
    {
      "cell_type": "code",
      "source": [
        "df['Birth Weight'].value_counts()"
      ],
      "metadata": {
        "colab": {
          "base_uri": "https://localhost:8080/",
          "height": 489
        },
        "id": "DA9o_BScLn30",
        "outputId": "7cff879e-265f-4690-a7b2-ded1d5bed6ee"
      },
      "execution_count": null,
      "outputs": [
        {
          "output_type": "execute_result",
          "data": {
            "text/plain": [
              "Birth Weight\n",
              "03200    54981\n",
              "03300    54116\n",
              "03400    52391\n",
              "03100    52043\n",
              "3200     49797\n",
              "         ...  \n",
              "09800        1\n",
              "07400        1\n",
              "07700        1\n",
              "06600        1\n",
              "09400        1\n",
              "Name: count, Length: 171, dtype: int64"
            ],
            "text/html": [
              "<div>\n",
              "<style scoped>\n",
              "    .dataframe tbody tr th:only-of-type {\n",
              "        vertical-align: middle;\n",
              "    }\n",
              "\n",
              "    .dataframe tbody tr th {\n",
              "        vertical-align: top;\n",
              "    }\n",
              "\n",
              "    .dataframe thead th {\n",
              "        text-align: right;\n",
              "    }\n",
              "</style>\n",
              "<table border=\"1\" class=\"dataframe\">\n",
              "  <thead>\n",
              "    <tr style=\"text-align: right;\">\n",
              "      <th></th>\n",
              "      <th>count</th>\n",
              "    </tr>\n",
              "    <tr>\n",
              "      <th>Birth Weight</th>\n",
              "      <th></th>\n",
              "    </tr>\n",
              "  </thead>\n",
              "  <tbody>\n",
              "    <tr>\n",
              "      <th>03200</th>\n",
              "      <td>54981</td>\n",
              "    </tr>\n",
              "    <tr>\n",
              "      <th>03300</th>\n",
              "      <td>54116</td>\n",
              "    </tr>\n",
              "    <tr>\n",
              "      <th>03400</th>\n",
              "      <td>52391</td>\n",
              "    </tr>\n",
              "    <tr>\n",
              "      <th>03100</th>\n",
              "      <td>52043</td>\n",
              "    </tr>\n",
              "    <tr>\n",
              "      <th>3200</th>\n",
              "      <td>49797</td>\n",
              "    </tr>\n",
              "    <tr>\n",
              "      <th>...</th>\n",
              "      <td>...</td>\n",
              "    </tr>\n",
              "    <tr>\n",
              "      <th>09800</th>\n",
              "      <td>1</td>\n",
              "    </tr>\n",
              "    <tr>\n",
              "      <th>07400</th>\n",
              "      <td>1</td>\n",
              "    </tr>\n",
              "    <tr>\n",
              "      <th>07700</th>\n",
              "      <td>1</td>\n",
              "    </tr>\n",
              "    <tr>\n",
              "      <th>06600</th>\n",
              "      <td>1</td>\n",
              "    </tr>\n",
              "    <tr>\n",
              "      <th>09400</th>\n",
              "      <td>1</td>\n",
              "    </tr>\n",
              "  </tbody>\n",
              "</table>\n",
              "<p>171 rows × 1 columns</p>\n",
              "</div><br><label><b>dtype:</b> int64</label>"
            ]
          },
          "metadata": {},
          "execution_count": 36
        }
      ]
    },
    {
      "cell_type": "code",
      "source": [
        "df['Birth Weight'].info()"
      ],
      "metadata": {
        "colab": {
          "base_uri": "https://localhost:8080/"
        },
        "id": "Hz3ibKmvLtvy",
        "outputId": "09b80570-eb18-458d-c4d2-66dfea28f6a9"
      },
      "execution_count": null,
      "outputs": [
        {
          "output_type": "stream",
          "name": "stdout",
          "text": [
            "<class 'pandas.core.series.Series'>\n",
            "RangeIndex: 1265614 entries, 0 to 1265613\n",
            "Series name: Birth Weight\n",
            "Non-Null Count    Dtype\n",
            "--------------    -----\n",
            "1265614 non-null  int64\n",
            "dtypes: int64(1)\n",
            "memory usage: 9.7 MB\n"
          ]
        }
      ]
    },
    {
      "cell_type": "code",
      "source": [
        "# This one line attempts to convert everything to a number.\n",
        "# 'coerce' is the key: it will automatically turn any value that CAN'T be converted\n",
        "# (like 'UNKN' or any other text) into a NaN (Not a Number).\n",
        "df['Birth Weight'] = pd.to_numeric(df['Birth Weight'], errors='coerce')\n",
        "\n",
        "# Now that all bad text is gone, we just have numbers and NaNs.\n",
        "# We can now safely fill the NaNs with 0.\n",
        "df['Birth Weight'].fillna(0, inplace=True)\n",
        "\n",
        "# Finally, convert the entire column to an integer type.\n",
        "df['Birth Weight'] = df['Birth Weight'].astype(int)\n",
        "\n",
        "print(f\"Column is now clean! New dtype: {df['Birth Weight'].dtype}\")"
      ],
      "metadata": {
        "colab": {
          "base_uri": "https://localhost:8080/"
        },
        "id": "9l2UZEbuLj2w",
        "outputId": "17c8d28b-97df-43d5-9f14-0e07ee405a02"
      },
      "execution_count": null,
      "outputs": [
        {
          "output_type": "stream",
          "name": "stdout",
          "text": [
            "Column is now clean! New dtype: int64\n"
          ]
        }
      ]
    },
    {
      "cell_type": "code",
      "source": [
        "df['Birth Weight'].info()"
      ],
      "metadata": {
        "colab": {
          "base_uri": "https://localhost:8080/"
        },
        "id": "Hh-WLNovMiBw",
        "outputId": "c9c27d6f-9c63-427c-9d92-50006e124439"
      },
      "execution_count": null,
      "outputs": [
        {
          "output_type": "stream",
          "name": "stdout",
          "text": [
            "<class 'pandas.core.series.Series'>\n",
            "RangeIndex: 1265614 entries, 0 to 1265613\n",
            "Series name: Birth Weight\n",
            "Non-Null Count    Dtype\n",
            "--------------    -----\n",
            "1265614 non-null  int64\n",
            "dtypes: int64(1)\n",
            "memory usage: 9.7 MB\n"
          ]
        }
      ]
    },
    {
      "cell_type": "markdown",
      "source": [
        "Fixing total charges column"
      ],
      "metadata": {
        "id": "1vr-IpmdRfAS"
      }
    },
    {
      "cell_type": "code",
      "source": [
        "# Converting  cost and charges to Float\n",
        "df['Total Charges']=df['Total Charges'].apply(lambda x: str.replace(x,',','') if str(x).find(',') > 0 else x ).astype(\"float64\")\n",
        "df['Total Costs']=df['Total Costs'].apply(lambda x: str.replace(x,',','') if str(x).find(',') > 0 else x ).astype(\"float64\")"
      ],
      "metadata": {
        "id": "G3onrwnVScjx"
      },
      "execution_count": null,
      "outputs": []
    },
    {
      "cell_type": "code",
      "source": [
        "df['Total Charges'].info()"
      ],
      "metadata": {
        "colab": {
          "base_uri": "https://localhost:8080/"
        },
        "id": "l64e4UJFSqp7",
        "outputId": "45f5ff06-b300-4b21-a0e0-51eb00a5b9c4"
      },
      "execution_count": null,
      "outputs": [
        {
          "output_type": "stream",
          "name": "stdout",
          "text": [
            "<class 'pandas.core.series.Series'>\n",
            "RangeIndex: 1265614 entries, 0 to 1265613\n",
            "Series name: Total Charges\n",
            "Non-Null Count    Dtype  \n",
            "--------------    -----  \n",
            "1265614 non-null  float64\n",
            "dtypes: float64(1)\n",
            "memory usage: 9.7 MB\n"
          ]
        }
      ]
    },
    {
      "cell_type": "markdown",
      "source": [
        "Exporting it to drive as a parquet file"
      ],
      "metadata": {
        "id": "ZKJ8dkeWRk_y"
      }
    },
    {
      "cell_type": "code",
      "source": [
        "df.to_parquet('/content/drive/My Drive/All_Sparcs_Dataset/sparcs_all_years.parquet')"
      ],
      "metadata": {
        "id": "OMyGV3YF_oWN"
      },
      "execution_count": null,
      "outputs": []
    },
    {
      "cell_type": "markdown",
      "source": [
        "The parquet file here is the single source of truth. This file will be referred for EDA as well as model building"
      ],
      "metadata": {
        "id": "Yxyx80lhZ9-S"
      }
    },
    {
      "cell_type": "markdown",
      "source": [
        "Now some preprocessing and some more cleanup needs to be done to get started with EDA"
      ],
      "metadata": {
        "id": "IfeFYHnAaIvP"
      }
    },
    {
      "cell_type": "code",
      "source": [
        "df = pd.read_parquet('/content/drive/My Drive/All_Sparcs_Dataset/sparcs_all_years.parquet')"
      ],
      "metadata": {
        "id": "eSAvyPCCy5HL"
      },
      "execution_count": null,
      "outputs": []
    },
    {
      "cell_type": "code",
      "source": [
        "df.shape"
      ],
      "metadata": {
        "colab": {
          "base_uri": "https://localhost:8080/"
        },
        "id": "tN2aq6n6HAuN",
        "outputId": "3b8eb7b5-b84f-43c1-db1e-8bc4827be49d"
      },
      "execution_count": null,
      "outputs": [
        {
          "output_type": "execute_result",
          "data": {
            "text/plain": [
              "(1265614, 33)"
            ]
          },
          "metadata": {},
          "execution_count": 65
        }
      ]
    },
    {
      "cell_type": "code",
      "source": [
        "df.info()"
      ],
      "metadata": {
        "colab": {
          "base_uri": "https://localhost:8080/"
        },
        "id": "a64TcWY8asuO",
        "outputId": "8d8af4db-20f4-4b55-db54-178c03af901a"
      },
      "execution_count": null,
      "outputs": [
        {
          "output_type": "stream",
          "name": "stdout",
          "text": [
            "<class 'pandas.core.frame.DataFrame'>\n",
            "RangeIndex: 1265614 entries, 0 to 1265613\n",
            "Data columns (total 33 columns):\n",
            " #   Column                               Non-Null Count    Dtype  \n",
            "---  ------                               --------------    -----  \n",
            " 0   Hospital Service Area                1264176 non-null  object \n",
            " 1   Hospital County                      1264176 non-null  object \n",
            " 2   Operating Certificate Number         1264176 non-null  float64\n",
            " 3   Permanent Facility Id                1264176 non-null  float64\n",
            " 4   Facility Name                        1265614 non-null  object \n",
            " 5   Age Group                            1265614 non-null  object \n",
            " 6   Zip Code - 3 digits                  1246887 non-null  object \n",
            " 7   Gender                               1265614 non-null  object \n",
            " 8   Race                                 1265614 non-null  object \n",
            " 9   Ethnicity                            1265614 non-null  object \n",
            " 10  Length of Stay                       1265614 non-null  int64  \n",
            " 11  Type of Admission                    1265614 non-null  object \n",
            " 12  Patient Disposition                  1265614 non-null  object \n",
            " 13  Discharge Year                       1265614 non-null  int64  \n",
            " 14  CCSR Diagnosis Code                  1265614 non-null  object \n",
            " 15  CCSR Diagnosis Description           1265614 non-null  object \n",
            " 16  CCSR Procedure Code                  1265614 non-null  object \n",
            " 17  CCSR Procedure Description           1083857 non-null  object \n",
            " 18  APR DRG Code                         1265614 non-null  int64  \n",
            " 19  APR DRG Description                  1265614 non-null  object \n",
            " 20  APR MDC Code                         1265614 non-null  int64  \n",
            " 21  APR MDC Description                  1265614 non-null  object \n",
            " 22  APR Severity of Illness Code         1265614 non-null  int64  \n",
            " 23  APR Severity of Illness Description  1265087 non-null  object \n",
            " 24  APR Risk of Mortality                1265087 non-null  object \n",
            " 25  APR Medical Surgical Description     1265614 non-null  object \n",
            " 26  Payment Typology 1                   1265614 non-null  object \n",
            " 27  Payment Typology 2                   518242 non-null   object \n",
            " 28  Payment Typology 3                   194098 non-null   object \n",
            " 29  Birth Weight                         1265614 non-null  int64  \n",
            " 30  Emergency Department Indicator       1265614 non-null  object \n",
            " 31  Total Charges                        1265614 non-null  float64\n",
            " 32  Total Costs                          1265614 non-null  float64\n",
            "dtypes: float64(4), int64(6), object(23)\n",
            "memory usage: 318.6+ MB\n"
          ]
        }
      ]
    },
    {
      "cell_type": "code",
      "source": [
        "df['Hospital County'].value_counts()"
      ],
      "metadata": {
        "colab": {
          "base_uri": "https://localhost:8080/",
          "height": 1000
        },
        "id": "DPvqylMDbSv6",
        "outputId": "386f2f43-9e2f-4e5d-eb09-d50274d9cc00"
      },
      "execution_count": null,
      "outputs": [
        {
          "output_type": "execute_result",
          "data": {
            "text/plain": [
              "Hospital County\n",
              "Manhattan      243731\n",
              "Kings          146694\n",
              "Queens         133436\n",
              "Nassau          87297\n",
              "Suffolk         82352\n",
              "Bronx           74503\n",
              "Erie            66810\n",
              "Monroe          55917\n",
              "Westchester     53979\n",
              "Onondaga        39258\n",
              "Richmond        31727\n",
              "Rockland        28948\n",
              "Albany          26926\n",
              "Dutchess        20060\n",
              "Orange          19130\n",
              "Broome          14015\n",
              "Schenectady     13653\n",
              "Oneida          12817\n",
              "Jefferson       11409\n",
              "Chemung          6982\n",
              "Warren           6823\n",
              "Otsego           5972\n",
              "Chautauqua       5189\n",
              "Niagara          5017\n",
              "Tompkins         4877\n",
              "St Lawrence      4745\n",
              "Rensselaer       4732\n",
              "Clinton          4611\n",
              "Saratoga         4405\n",
              "Ontario          4064\n",
              "Cattaraugus      3694\n",
              "Wayne            3578\n",
              "Sullivan         3332\n",
              "Steuben          3233\n",
              "Genesee          3087\n",
              "Madison          3024\n",
              "Oswego           2810\n",
              "Allegany         2224\n",
              "Cayuga           2181\n",
              "Montgomery       2033\n",
              "Cortland         2016\n",
              "Fulton           1925\n",
              "Livingston       1917\n",
              "Franklin         1798\n",
              "Putnam           1636\n",
              "Ulster           1496\n",
              "Chenango         1362\n",
              "Columbia         1020\n",
              "Lewis             886\n",
              "Wyoming           845\n",
              "Name: count, dtype: int64"
            ],
            "text/html": [
              "<div>\n",
              "<style scoped>\n",
              "    .dataframe tbody tr th:only-of-type {\n",
              "        vertical-align: middle;\n",
              "    }\n",
              "\n",
              "    .dataframe tbody tr th {\n",
              "        vertical-align: top;\n",
              "    }\n",
              "\n",
              "    .dataframe thead th {\n",
              "        text-align: right;\n",
              "    }\n",
              "</style>\n",
              "<table border=\"1\" class=\"dataframe\">\n",
              "  <thead>\n",
              "    <tr style=\"text-align: right;\">\n",
              "      <th></th>\n",
              "      <th>count</th>\n",
              "    </tr>\n",
              "    <tr>\n",
              "      <th>Hospital County</th>\n",
              "      <th></th>\n",
              "    </tr>\n",
              "  </thead>\n",
              "  <tbody>\n",
              "    <tr>\n",
              "      <th>Manhattan</th>\n",
              "      <td>243731</td>\n",
              "    </tr>\n",
              "    <tr>\n",
              "      <th>Kings</th>\n",
              "      <td>146694</td>\n",
              "    </tr>\n",
              "    <tr>\n",
              "      <th>Queens</th>\n",
              "      <td>133436</td>\n",
              "    </tr>\n",
              "    <tr>\n",
              "      <th>Nassau</th>\n",
              "      <td>87297</td>\n",
              "    </tr>\n",
              "    <tr>\n",
              "      <th>Suffolk</th>\n",
              "      <td>82352</td>\n",
              "    </tr>\n",
              "    <tr>\n",
              "      <th>Bronx</th>\n",
              "      <td>74503</td>\n",
              "    </tr>\n",
              "    <tr>\n",
              "      <th>Erie</th>\n",
              "      <td>66810</td>\n",
              "    </tr>\n",
              "    <tr>\n",
              "      <th>Monroe</th>\n",
              "      <td>55917</td>\n",
              "    </tr>\n",
              "    <tr>\n",
              "      <th>Westchester</th>\n",
              "      <td>53979</td>\n",
              "    </tr>\n",
              "    <tr>\n",
              "      <th>Onondaga</th>\n",
              "      <td>39258</td>\n",
              "    </tr>\n",
              "    <tr>\n",
              "      <th>Richmond</th>\n",
              "      <td>31727</td>\n",
              "    </tr>\n",
              "    <tr>\n",
              "      <th>Rockland</th>\n",
              "      <td>28948</td>\n",
              "    </tr>\n",
              "    <tr>\n",
              "      <th>Albany</th>\n",
              "      <td>26926</td>\n",
              "    </tr>\n",
              "    <tr>\n",
              "      <th>Dutchess</th>\n",
              "      <td>20060</td>\n",
              "    </tr>\n",
              "    <tr>\n",
              "      <th>Orange</th>\n",
              "      <td>19130</td>\n",
              "    </tr>\n",
              "    <tr>\n",
              "      <th>Broome</th>\n",
              "      <td>14015</td>\n",
              "    </tr>\n",
              "    <tr>\n",
              "      <th>Schenectady</th>\n",
              "      <td>13653</td>\n",
              "    </tr>\n",
              "    <tr>\n",
              "      <th>Oneida</th>\n",
              "      <td>12817</td>\n",
              "    </tr>\n",
              "    <tr>\n",
              "      <th>Jefferson</th>\n",
              "      <td>11409</td>\n",
              "    </tr>\n",
              "    <tr>\n",
              "      <th>Chemung</th>\n",
              "      <td>6982</td>\n",
              "    </tr>\n",
              "    <tr>\n",
              "      <th>Warren</th>\n",
              "      <td>6823</td>\n",
              "    </tr>\n",
              "    <tr>\n",
              "      <th>Otsego</th>\n",
              "      <td>5972</td>\n",
              "    </tr>\n",
              "    <tr>\n",
              "      <th>Chautauqua</th>\n",
              "      <td>5189</td>\n",
              "    </tr>\n",
              "    <tr>\n",
              "      <th>Niagara</th>\n",
              "      <td>5017</td>\n",
              "    </tr>\n",
              "    <tr>\n",
              "      <th>Tompkins</th>\n",
              "      <td>4877</td>\n",
              "    </tr>\n",
              "    <tr>\n",
              "      <th>St Lawrence</th>\n",
              "      <td>4745</td>\n",
              "    </tr>\n",
              "    <tr>\n",
              "      <th>Rensselaer</th>\n",
              "      <td>4732</td>\n",
              "    </tr>\n",
              "    <tr>\n",
              "      <th>Clinton</th>\n",
              "      <td>4611</td>\n",
              "    </tr>\n",
              "    <tr>\n",
              "      <th>Saratoga</th>\n",
              "      <td>4405</td>\n",
              "    </tr>\n",
              "    <tr>\n",
              "      <th>Ontario</th>\n",
              "      <td>4064</td>\n",
              "    </tr>\n",
              "    <tr>\n",
              "      <th>Cattaraugus</th>\n",
              "      <td>3694</td>\n",
              "    </tr>\n",
              "    <tr>\n",
              "      <th>Wayne</th>\n",
              "      <td>3578</td>\n",
              "    </tr>\n",
              "    <tr>\n",
              "      <th>Sullivan</th>\n",
              "      <td>3332</td>\n",
              "    </tr>\n",
              "    <tr>\n",
              "      <th>Steuben</th>\n",
              "      <td>3233</td>\n",
              "    </tr>\n",
              "    <tr>\n",
              "      <th>Genesee</th>\n",
              "      <td>3087</td>\n",
              "    </tr>\n",
              "    <tr>\n",
              "      <th>Madison</th>\n",
              "      <td>3024</td>\n",
              "    </tr>\n",
              "    <tr>\n",
              "      <th>Oswego</th>\n",
              "      <td>2810</td>\n",
              "    </tr>\n",
              "    <tr>\n",
              "      <th>Allegany</th>\n",
              "      <td>2224</td>\n",
              "    </tr>\n",
              "    <tr>\n",
              "      <th>Cayuga</th>\n",
              "      <td>2181</td>\n",
              "    </tr>\n",
              "    <tr>\n",
              "      <th>Montgomery</th>\n",
              "      <td>2033</td>\n",
              "    </tr>\n",
              "    <tr>\n",
              "      <th>Cortland</th>\n",
              "      <td>2016</td>\n",
              "    </tr>\n",
              "    <tr>\n",
              "      <th>Fulton</th>\n",
              "      <td>1925</td>\n",
              "    </tr>\n",
              "    <tr>\n",
              "      <th>Livingston</th>\n",
              "      <td>1917</td>\n",
              "    </tr>\n",
              "    <tr>\n",
              "      <th>Franklin</th>\n",
              "      <td>1798</td>\n",
              "    </tr>\n",
              "    <tr>\n",
              "      <th>Putnam</th>\n",
              "      <td>1636</td>\n",
              "    </tr>\n",
              "    <tr>\n",
              "      <th>Ulster</th>\n",
              "      <td>1496</td>\n",
              "    </tr>\n",
              "    <tr>\n",
              "      <th>Chenango</th>\n",
              "      <td>1362</td>\n",
              "    </tr>\n",
              "    <tr>\n",
              "      <th>Columbia</th>\n",
              "      <td>1020</td>\n",
              "    </tr>\n",
              "    <tr>\n",
              "      <th>Lewis</th>\n",
              "      <td>886</td>\n",
              "    </tr>\n",
              "    <tr>\n",
              "      <th>Wyoming</th>\n",
              "      <td>845</td>\n",
              "    </tr>\n",
              "  </tbody>\n",
              "</table>\n",
              "</div><br><label><b>dtype:</b> int64</label>"
            ]
          },
          "metadata": {},
          "execution_count": 67
        }
      ]
    },
    {
      "cell_type": "code",
      "source": [
        "df['Hospital County'].info()"
      ],
      "metadata": {
        "colab": {
          "base_uri": "https://localhost:8080/"
        },
        "id": "S5dsJFxHcSmj",
        "outputId": "1f2f6519-f866-45cc-ccd8-f891c173ee3f"
      },
      "execution_count": null,
      "outputs": [
        {
          "output_type": "stream",
          "name": "stdout",
          "text": [
            "<class 'pandas.core.series.Series'>\n",
            "RangeIndex: 1265614 entries, 0 to 1265613\n",
            "Series name: Hospital County\n",
            "Non-Null Count    Dtype \n",
            "--------------    ----- \n",
            "1264176 non-null  object\n",
            "dtypes: object(1)\n",
            "memory usage: 9.7+ MB\n"
          ]
        }
      ]
    },
    {
      "cell_type": "code",
      "source": [
        "# No. of Hospital County facility id\n",
        "len(df['Permanent Facility Id'].unique())"
      ],
      "metadata": {
        "colab": {
          "base_uri": "https://localhost:8080/"
        },
        "id": "Jv0H0OK0dFZf",
        "outputId": "fd93727a-a9e5-45b7-a069-aa0d8da1f53a"
      },
      "execution_count": null,
      "outputs": [
        {
          "output_type": "execute_result",
          "data": {
            "text/plain": [
              "142"
            ]
          },
          "metadata": {},
          "execution_count": 69
        }
      ]
    },
    {
      "cell_type": "code",
      "source": [
        "# No. of Hospital County facility name\n",
        "len(df['Facility Name'].value_counts().unique())"
      ],
      "metadata": {
        "colab": {
          "base_uri": "https://localhost:8080/"
        },
        "id": "0rZoOZ7IdIW7",
        "outputId": "52ecec53-5e23-46f6-8e5d-bae47acc33c6"
      },
      "execution_count": null,
      "outputs": [
        {
          "output_type": "execute_result",
          "data": {
            "text/plain": [
              "186"
            ]
          },
          "metadata": {},
          "execution_count": 70
        }
      ]
    },
    {
      "cell_type": "markdown",
      "source": [
        "TEchnically the no. of facility id and facility names should be same.The reason you have more facility names (186) than facility IDs (142) is because a single hospital (with one unique ID) is being recorded with several slightly different text names across the dataset.\n",
        "For EDA we will drop the facility id part, but for real modelling, we will drop both"
      ],
      "metadata": {
        "id": "vZsgqv5kdsyP"
      }
    },
    {
      "cell_type": "code",
      "source": [
        "#df.drop(columns=['Permanent Facility Id'], inplace=True)"
      ],
      "metadata": {
        "id": "VQAlyrqUff7q"
      },
      "execution_count": null,
      "outputs": []
    },
    {
      "cell_type": "code",
      "source": [
        "df.shape"
      ],
      "metadata": {
        "colab": {
          "base_uri": "https://localhost:8080/"
        },
        "id": "E0w5UfnEhHuj",
        "outputId": "d43cf9d9-7060-42ed-86ea-51928d3200d4"
      },
      "execution_count": null,
      "outputs": [
        {
          "output_type": "execute_result",
          "data": {
            "text/plain": [
              "(1265614, 33)"
            ]
          },
          "metadata": {},
          "execution_count": 71
        }
      ]
    },
    {
      "cell_type": "code",
      "source": [
        "#deleting all duplicates\n",
        "df.drop_duplicates(inplace=True)"
      ],
      "metadata": {
        "id": "fY3bfy0yhLz4"
      },
      "execution_count": null,
      "outputs": []
    },
    {
      "cell_type": "code",
      "source": [
        "df.shape"
      ],
      "metadata": {
        "colab": {
          "base_uri": "https://localhost:8080/"
        },
        "id": "MoNBh68bk49Y",
        "outputId": "ff1ee5ec-9eca-4a34-8dd8-f452aea76f18"
      },
      "execution_count": null,
      "outputs": [
        {
          "output_type": "execute_result",
          "data": {
            "text/plain": [
              "(1232243, 33)"
            ]
          },
          "metadata": {},
          "execution_count": 73
        }
      ]
    },
    {
      "cell_type": "markdown",
      "source": [
        "Dropping the cols which are not required for EDA"
      ],
      "metadata": {
        "id": "ouu36Jhsv8o9"
      }
    },
    {
      "cell_type": "code",
      "source": [
        "df.drop(columns=['Payment Typology 2','Payment Typology 3'], inplace=True)"
      ],
      "metadata": {
        "id": "oS0Kk-yyvQUx"
      },
      "execution_count": null,
      "outputs": []
    },
    {
      "cell_type": "code",
      "source": [
        "df.shape"
      ],
      "metadata": {
        "colab": {
          "base_uri": "https://localhost:8080/"
        },
        "id": "j7eYMbplv3vd",
        "outputId": "a7a07ff9-9bda-43cb-cc89-b1dd9f30b265"
      },
      "execution_count": null,
      "outputs": [
        {
          "output_type": "execute_result",
          "data": {
            "text/plain": [
              "(1232243, 31)"
            ]
          },
          "metadata": {},
          "execution_count": 75
        }
      ]
    },
    {
      "cell_type": "markdown",
      "source": [
        "For the same code , there are multiple descriptions. We have to make a single description for a single code"
      ],
      "metadata": {
        "id": "_g6M6w1c0M4b"
      }
    },
    {
      "cell_type": "code",
      "source": [
        "# Checking Code and Description , if multiple descriptions for same code\n",
        "df.groupby(['Permanent Facility Id'])['Facility Name'].nunique().sort_values(ascending=False)"
      ],
      "metadata": {
        "colab": {
          "base_uri": "https://localhost:8080/",
          "height": 489
        },
        "id": "rUVyMLAkz-C8",
        "outputId": "dcaecb9b-d00d-4dec-cf1a-08e306b406d1"
      },
      "execution_count": null,
      "outputs": [
        {
          "output_type": "execute_result",
          "data": {
            "text/plain": [
              "Permanent Facility Id\n",
              "1122.0     5\n",
              "1637.0     4\n",
              "511.0      3\n",
              "889.0      3\n",
              "1304.0     3\n",
              "          ..\n",
              "1740.0     1\n",
              "3067.0     1\n",
              "9250.0     1\n",
              "10139.0    1\n",
              "15478.0    1\n",
              "Name: Facility Name, Length: 141, dtype: int64"
            ],
            "text/html": [
              "<div>\n",
              "<style scoped>\n",
              "    .dataframe tbody tr th:only-of-type {\n",
              "        vertical-align: middle;\n",
              "    }\n",
              "\n",
              "    .dataframe tbody tr th {\n",
              "        vertical-align: top;\n",
              "    }\n",
              "\n",
              "    .dataframe thead th {\n",
              "        text-align: right;\n",
              "    }\n",
              "</style>\n",
              "<table border=\"1\" class=\"dataframe\">\n",
              "  <thead>\n",
              "    <tr style=\"text-align: right;\">\n",
              "      <th></th>\n",
              "      <th>Facility Name</th>\n",
              "    </tr>\n",
              "    <tr>\n",
              "      <th>Permanent Facility Id</th>\n",
              "      <th></th>\n",
              "    </tr>\n",
              "  </thead>\n",
              "  <tbody>\n",
              "    <tr>\n",
              "      <th>1122.0</th>\n",
              "      <td>5</td>\n",
              "    </tr>\n",
              "    <tr>\n",
              "      <th>1637.0</th>\n",
              "      <td>4</td>\n",
              "    </tr>\n",
              "    <tr>\n",
              "      <th>511.0</th>\n",
              "      <td>3</td>\n",
              "    </tr>\n",
              "    <tr>\n",
              "      <th>889.0</th>\n",
              "      <td>3</td>\n",
              "    </tr>\n",
              "    <tr>\n",
              "      <th>1304.0</th>\n",
              "      <td>3</td>\n",
              "    </tr>\n",
              "    <tr>\n",
              "      <th>...</th>\n",
              "      <td>...</td>\n",
              "    </tr>\n",
              "    <tr>\n",
              "      <th>1740.0</th>\n",
              "      <td>1</td>\n",
              "    </tr>\n",
              "    <tr>\n",
              "      <th>3067.0</th>\n",
              "      <td>1</td>\n",
              "    </tr>\n",
              "    <tr>\n",
              "      <th>9250.0</th>\n",
              "      <td>1</td>\n",
              "    </tr>\n",
              "    <tr>\n",
              "      <th>10139.0</th>\n",
              "      <td>1</td>\n",
              "    </tr>\n",
              "    <tr>\n",
              "      <th>15478.0</th>\n",
              "      <td>1</td>\n",
              "    </tr>\n",
              "  </tbody>\n",
              "</table>\n",
              "<p>141 rows × 1 columns</p>\n",
              "</div><br><label><b>dtype:</b> int64</label>"
            ]
          },
          "metadata": {},
          "execution_count": 76
        }
      ]
    },
    {
      "cell_type": "markdown",
      "source": [
        "Clearly facility id 1122 has 5 names, but it should have 1 name"
      ],
      "metadata": {
        "id": "yMVUBfgx0gfO"
      }
    },
    {
      "cell_type": "markdown",
      "source": [
        "for all codes, we will create a dictionary of descriptions and will consider the 1st description for a single code. It's a very crucial step"
      ],
      "metadata": {
        "id": "d79c5Ni90saZ"
      }
    },
    {
      "cell_type": "code",
      "source": [
        "# getting Code and Descriptions of all available fields.\n",
        "# There can be similar issue of code and description differences\n",
        "facility=df.groupby(['Permanent Facility Id'])['Facility Name'].unique().apply(list).to_dict()\n",
        "diag=df.groupby(['CCSR Diagnosis Code'])['CCSR Diagnosis Description'].unique().apply(list).to_dict()\n",
        "drg=df.groupby(['APR DRG Code'])['APR DRG Description'].unique().apply(list).to_dict()\n",
        "proc=df.groupby(['CCSR Procedure Code'])['CCSR Procedure Description'].unique().apply(list).to_dict()\n",
        "ill=df.groupby(['APR Severity of Illness Code'])['APR Severity of Illness Description'].unique().apply(list).to_dict()"
      ],
      "metadata": {
        "id": "5jG3vj150oAB"
      },
      "execution_count": null,
      "outputs": []
    },
    {
      "cell_type": "code",
      "source": [
        "# Checking facility Code and Desc\n",
        "facility"
      ],
      "metadata": {
        "colab": {
          "base_uri": "https://localhost:8080/"
        },
        "id": "MQLfWIqy1nhD",
        "outputId": "120c3603-d7db-49a9-e9e6-f76d0c5fbd95"
      },
      "execution_count": null,
      "outputs": [
        {
          "output_type": "execute_result",
          "data": {
            "text/plain": [
              "{1.0: ['Albany Medical Center Hospital'],\n",
              " 5.0: ['St Peters Hospital', \"St. Peter's Hospital\"],\n",
              " 39.0: ['Memorial Hosp of Wm F & Gertrude F Jones A/K/A Jones Memorial Hosp'],\n",
              " 43.0: ['Our Lady of Lourdes Memorial Hospital Inc',\n",
              "  'Our Lady of Lourdes Memorial Hospital'],\n",
              " 58.0: ['United Health Services Hospitals Inc. - Wilson Medical Center'],\n",
              " 66.0: ['Olean General Hospital'],\n",
              " 85.0: ['Auburn Community Hospital'],\n",
              " 98.0: ['Brooks Memorial Hospital', 'Brooks-TLC Hospital System, Inc.'],\n",
              " 103.0: [\"Woman's Christian Association\", 'UPMC Chautauqua at WCA'],\n",
              " 116.0: ['Arnot Ogden Medical Center'],\n",
              " 128.0: ['Chenango Memorial Hospital Inc'],\n",
              " 135.0: ['The University of Vermont Health Network - Champlain Valley Physicians',\n",
              "  'The University of Vermont Health Network - Champlain Valley Physicians Hospital'],\n",
              " 146.0: ['Columbia Memorial Hospital'],\n",
              " 158.0: ['Cortland Regional Medical Center Inc',\n",
              "  'Guthrie Cortland Medical Center'],\n",
              " 181.0: ['Vassar Brothers Medical Center'],\n",
              " 192.0: ['Northern Dutchess Hospital'],\n",
              " 208.0: [\"Women And Children's Hospital Of Buffalo\",\n",
              "  \"John R. Oishei Children's Hospital\"],\n",
              " 213.0: ['Mercy Hospital', 'Mercy Hospital of Buffalo'],\n",
              " 218.0: ['Sisters of Charity Hospital'],\n",
              " 245.0: ['University Hospital', 'Stony Brook University Hospital'],\n",
              " 324.0: ['Adirondack Medical Center-Saranac Lake Site'],\n",
              " 325.0: ['Alice Hyde Medical Center',\n",
              "  'The University of Vermont Health Network - Alice Hyde Medical Center'],\n",
              " 330.0: ['Nathan Littauer Hospital'],\n",
              " 339.0: ['United Memorial Medical Center North Street Campus'],\n",
              " 367.0: ['Samaritan Medical Center'],\n",
              " 379.0: ['Carthage Area Hospital Inc'],\n",
              " 383.0: ['Lewis County General Hospital'],\n",
              " 393.0: ['Nicholas H Noyes Memorial Hospital',\n",
              "  'Nicholas H. Noyes Memorial Hospital'],\n",
              " 397.0: ['Oneida Healthcare', 'Oneida Health Hospital'],\n",
              " 409.0: ['Highland Hospital'],\n",
              " 411.0: ['Rochester General Hospital'],\n",
              " 412.0: ['Unity Specialty Hospital'],\n",
              " 413.0: ['Strong Memorial Hospital'],\n",
              " 471.0: ['The Unity Hospital of Rochester'],\n",
              " 484.0: [\"St. Mary's Healthcare\"],\n",
              " 511.0: ['Winthrop-University Hospital',\n",
              "  'NYU Winthrop Hospital',\n",
              "  'NYU Langone Hospital-Long Island'],\n",
              " 513.0: ['Mercy Medical Center', 'Mercy Hospital'],\n",
              " 518.0: ['Long Island Jewish Valley Stream'],\n",
              " 527.0: ['South Nassau Communities Hospital', 'Mount Sinai South Nassau'],\n",
              " 528.0: ['Nassau University Medical Center'],\n",
              " 541.0: ['North Shore University Hospital'],\n",
              " 550.0: ['Syosset Hospital'],\n",
              " 552.0: ['Plainview Hospital'],\n",
              " 565.0: ['Eastern Niagara Hospital - Lockport Division'],\n",
              " 574.0: ['Niagara Falls Memorial Medical Center'],\n",
              " 583.0: ['Mount St Marys Hospital and Health Center',\n",
              "  \"Mount St. Mary's Hospital and Health Center\"],\n",
              " 589.0: ['Rome Memorial Hospital, Inc'],\n",
              " 598.0: ['St Elizabeth Medical Center'],\n",
              " 599.0: ['Faxton-St Lukes Healthcare St Lukes Division'],\n",
              " 628.0: ['UPSTATE University Hospital at Community General'],\n",
              " 630.0: ['St Josephs Hospital Health Center',\n",
              "  \"St. Joseph's Hospital Health Center\"],\n",
              " 636.0: ['Crouse Hospital'],\n",
              " 676.0: ['Clifton Springs Hospital and Clinic'],\n",
              " 678.0: ['F F Thompson Hospital', 'F.F. Thompson Hospital'],\n",
              " 694.0: [\"St Luke's Cornwall Hospital/Newburgh\"],\n",
              " 699.0: ['Orange Regional Medical Center', 'Garnet Health Medical Center'],\n",
              " 704.0: ['St Anthony Community Hospital'],\n",
              " 727.0: ['Oswego Hospital'],\n",
              " 739.0: ['Aurelia Osborn Fox Memorial Hospital'],\n",
              " 746.0: ['Mary Imogene Bassett Hospital'],\n",
              " 752.0: ['Putnam Hospital Center', 'Putnam Hospital'],\n",
              " 756.0: ['Samaritan Hospital'],\n",
              " 776.0: ['Nyack Hospital', 'Montefiore Nyack'],\n",
              " 779.0: ['Good Samaritan Hospital of Suffern'],\n",
              " 798.0: ['Claxton-Hepburn Medical Center'],\n",
              " 804.0: ['Massena Memorial Hospital'],\n",
              " 815.0: ['Canton-Potsdam Hospital'],\n",
              " 818.0: ['Saratoga Hospital'],\n",
              " 848.0: [\"Ellis Hospital - Bellevue Woman's Care Center Division\"],\n",
              " 866.0: ['Corning Hospital'],\n",
              " 870.0: ['St James Mercy Hospital'],\n",
              " 889.0: ['Southampton Hospital',\n",
              "  'University Hospital - Stony Brook Southampton Hospital',\n",
              "  'Stony Brook Southampton Hospital'],\n",
              " 896.0: ['St Charles Hospital', 'St. Charles Hospital'],\n",
              " 913.0: ['Huntington Hospital'],\n",
              " 924.0: ['Southside Hospital', 'South Shore University Hospital'],\n",
              " 925.0: ['Good Samaritan Hospital Medical Center'],\n",
              " 938.0: ['Peconic Bay Medical Center'],\n",
              " 943.0: ['St Catherine of Siena Hospital'],\n",
              " 971.0: ['Catskill Regional Medical Center',\n",
              "  'Garnet Health Medical Center - Catskills'],\n",
              " 977.0: ['Cayuga Medical Center at Ithaca'],\n",
              " 989.0: [\"HealthAlliance Hospital Mary's Avenue Campus\"],\n",
              " 990.0: ['HealthAlliance Hospital Broadway Campus'],\n",
              " 1005.0: ['Glens Falls Hospital'],\n",
              " 1028.0: ['Newark-Wayne Community Hospital'],\n",
              " 1039.0: ['Hudson Valley Hospital Center',\n",
              "  'NewYork-Presbyterian/Hudson Valley Hospital'],\n",
              " 1045.0: ['White Plains Hospital Center'],\n",
              " 1046.0: ['Winifred Masterson Burke Rehabilitation Hospital'],\n",
              " 1072.0: ['Montefiore New Rochelle Hospital'],\n",
              " 1097.0: ['SJRH - St Johns Division'],\n",
              " 1098.0: [\"St Joseph's Medical Center\", \"St. Joseph's Medical Center\"],\n",
              " 1117.0: ['Northern Westchester Hospital'],\n",
              " 1122.0: ['New York-Presbyterian/Lawrence Hospital',\n",
              "  'NewYork-Presbyterian/Lawrence Hospital',\n",
              "  'NewYork-Presbyterian Lawrence Hospital',\n",
              "  'New York - Presbyterian Hospital',\n",
              "  'New York-Presbyterian Westchester'],\n",
              " 1129.0: ['Phelps Memorial Hospital Assn', 'Phelps Hospital'],\n",
              " 1139.0: ['Westchester Medical Center'],\n",
              " 1153.0: ['Wyoming County Community Hospital'],\n",
              " 1164.0: ['Bronx-Lebanon Hospital Center - Fulton Division'],\n",
              " 1165.0: ['Jacobi Medical Center'],\n",
              " 1168.0: ['Montefiore Medical Center-Wakefield Hospital'],\n",
              " 1169.0: ['Montefiore Medical Center - Henry & Lucy Moses Div'],\n",
              " 1172.0: ['Lincoln Medical & Mental Health Center'],\n",
              " 1176.0: ['SBH Health System'],\n",
              " 1178.0: ['Bronx-Lebanon Hospital Center - Concourse Division',\n",
              "  'BronxCare Hospital Center'],\n",
              " 1186.0: ['North Central Bronx Hospital'],\n",
              " 1286.0: ['Brookdale Hospital Medical Center'],\n",
              " 1288.0: ['Brooklyn Hospital Center - Downtown Campus'],\n",
              " 1294.0: ['Coney Island Hospital',\n",
              "  'NYC Health + Hospitals/South Brooklyn Health'],\n",
              " 1301.0: ['Kings County Hospital Center'],\n",
              " 1304.0: ['Lutheran Medical Center',\n",
              "  'NYU Lutheran Medical Center',\n",
              "  'NYU Langone Hospital-Brooklyn'],\n",
              " 1305.0: ['Maimonides Medical Center'],\n",
              " 1306.0: ['New York Methodist Hospital',\n",
              "  'NewYork-Presbyterian Brooklyn Methodist Hospital',\n",
              "  'New York - Presbyterian Brooklyn Methodist Hospital'],\n",
              " 1318.0: ['Wyckoff Heights Medical Center'],\n",
              " 1320.0: ['University Hospital of Brooklyn'],\n",
              " 1437.0: ['New York-Presbyterian/Lower Manhattan Hospital'],\n",
              " 1438.0: ['Bellevue Hospital Center'],\n",
              " 1439.0: ['Mount Sinai Beth Israel'],\n",
              " 1445.0: ['Harlem Hospital Center'],\n",
              " 1450.0: ['Lenox Hill Hospital'],\n",
              " 1454.0: ['Metropolitan Hospital Center'],\n",
              " 1456.0: ['Mount Sinai Hospital'],\n",
              " 1458.0: ['New York Presbyterian Hospital - New York Weill Cornell Center',\n",
              "  'New York-Presbyterian Hospital - New York Weill Cornell Center'],\n",
              " 1463.0: ['NYU Hospitals Center', 'NYU Langone Hospitals'],\n",
              " 1464.0: ['New York Presbyterian Hospital - Columbia Presbyterian Center',\n",
              "  'New York-Presbyterian Hospital - Columbia Presbyterian Center'],\n",
              " 1466.0: ['Mount Sinai Roosevelt', 'Mount Sinai West'],\n",
              " 1626.0: ['Elmhurst Hospital Center'],\n",
              " 1628.0: ['Flushing Hospital Medical Center'],\n",
              " 1629.0: ['Jamaica Hospital Medical Center'],\n",
              " 1630.0: ['Long Island Jewish Medical Center'],\n",
              " 1633.0: ['Queens Hospital Center'],\n",
              " 1635.0: ['St Johns Episcopal Hospital So Shore'],\n",
              " 1637.0: ['NewYork-Presbyterian/Queens',\n",
              "  'New York Hospital Medical Center of Queens',\n",
              "  'New York-Presbyterian/Queens',\n",
              "  'New York - Presbyterian/Queens'],\n",
              " 1638.0: ['Forest Hills Hospital', 'Long Island Jewish Forest Hills'],\n",
              " 1692.0: ['Woodhull Medical & Mental Health Center'],\n",
              " 1738.0: ['Richmond University Medical Center'],\n",
              " 1740.0: ['Staten Island University Hosp-North'],\n",
              " 3058.0: ['Montefiore Med Center - Jack D Weiler Hosp of A Einstein College Div'],\n",
              " 3067.0: ['Millard Fillmore Suburban Hospital'],\n",
              " 3376.0: [\"Long Island Jewish Schneiders Children's Hospital Division\",\n",
              "  \"Cohen Children's Medical Center\"],\n",
              " 3975.0: ['New York Presbyterian Hospital - Allen Hospital',\n",
              "  'New York-Presbyterian Hospital - Allen Hospital'],\n",
              " 9250.0: ['The Burdett Care Center'],\n",
              " 10139.0: ['New York-Presbyterian David H. Koch Center'],\n",
              " 15478.0: ['Wynn Hospital']}"
            ]
          },
          "metadata": {},
          "execution_count": 78
        }
      ]
    },
    {
      "cell_type": "code",
      "source": [
        "ill"
      ],
      "metadata": {
        "colab": {
          "base_uri": "https://localhost:8080/"
        },
        "id": "c4i6Q8jP14Yp",
        "outputId": "c7ea5b21-b027-4668-c837-129da6df1073"
      },
      "execution_count": null,
      "outputs": [
        {
          "output_type": "execute_result",
          "data": {
            "text/plain": [
              "{0: [None], 1: ['Minor'], 2: ['Moderate'], 3: ['Major'], 4: ['Extreme']}"
            ]
          },
          "metadata": {},
          "execution_count": 79
        }
      ]
    },
    {
      "cell_type": "code",
      "source": [
        "# Making NAN values as NA for Code 0\n",
        "ill[0]='NA'"
      ],
      "metadata": {
        "id": "j3JGxlNR1_bf"
      },
      "execution_count": null,
      "outputs": []
    },
    {
      "cell_type": "code",
      "source": [
        "ill"
      ],
      "metadata": {
        "colab": {
          "base_uri": "https://localhost:8080/"
        },
        "id": "_LLuSvnz2GME",
        "outputId": "471cfb92-96ac-4671-d0c1-975b698cd41c"
      },
      "execution_count": null,
      "outputs": [
        {
          "output_type": "execute_result",
          "data": {
            "text/plain": [
              "{0: 'NA', 1: ['Minor'], 2: ['Moderate'], 3: ['Major'], 4: ['Extreme']}"
            ]
          },
          "metadata": {},
          "execution_count": 81
        }
      ]
    },
    {
      "cell_type": "code",
      "source": [
        "# Doing Data Sync for Code and Description based on Master Set Created\n",
        "# Get first Value for a code\n",
        "df['Facility Name']= df['Permanent Facility Id'].apply(lambda x: facility.get(x,[None])[0])\n",
        "df['CCSR Diagnosis Description']= df['CCSR Diagnosis Code'].apply(lambda x: diag.get(x,[None])[0])\n",
        "df['APR DRG Description']= df['APR DRG Code'].apply(lambda x: drg.get(x,[None])[0])\n",
        "df['CCSR Procedure Description']= df['CCSR Procedure Code'].apply(lambda x: proc.get(x,[None])[0])\n",
        "df['APR Severity of Illness Description']= df['APR Severity of Illness Code'].apply(lambda x: ill.get(x,[None])[0])"
      ],
      "metadata": {
        "id": "YsLcEH_O2Oi1"
      },
      "execution_count": null,
      "outputs": []
    },
    {
      "cell_type": "code",
      "source": [
        "df.groupby(['Permanent Facility Id'])['Facility Name'].nunique().sort_values(ascending=False)"
      ],
      "metadata": {
        "colab": {
          "base_uri": "https://localhost:8080/",
          "height": 489
        },
        "id": "_3LYX_XO4n1f",
        "outputId": "b67d4963-70de-478a-a93c-a1691a8a7b34"
      },
      "execution_count": null,
      "outputs": [
        {
          "output_type": "execute_result",
          "data": {
            "text/plain": [
              "Permanent Facility Id\n",
              "1.0        1\n",
              "5.0        1\n",
              "39.0       1\n",
              "43.0       1\n",
              "58.0       1\n",
              "          ..\n",
              "3376.0     1\n",
              "3975.0     1\n",
              "9250.0     1\n",
              "10139.0    1\n",
              "15478.0    1\n",
              "Name: Facility Name, Length: 141, dtype: int64"
            ],
            "text/html": [
              "<div>\n",
              "<style scoped>\n",
              "    .dataframe tbody tr th:only-of-type {\n",
              "        vertical-align: middle;\n",
              "    }\n",
              "\n",
              "    .dataframe tbody tr th {\n",
              "        vertical-align: top;\n",
              "    }\n",
              "\n",
              "    .dataframe thead th {\n",
              "        text-align: right;\n",
              "    }\n",
              "</style>\n",
              "<table border=\"1\" class=\"dataframe\">\n",
              "  <thead>\n",
              "    <tr style=\"text-align: right;\">\n",
              "      <th></th>\n",
              "      <th>Facility Name</th>\n",
              "    </tr>\n",
              "    <tr>\n",
              "      <th>Permanent Facility Id</th>\n",
              "      <th></th>\n",
              "    </tr>\n",
              "  </thead>\n",
              "  <tbody>\n",
              "    <tr>\n",
              "      <th>1.0</th>\n",
              "      <td>1</td>\n",
              "    </tr>\n",
              "    <tr>\n",
              "      <th>5.0</th>\n",
              "      <td>1</td>\n",
              "    </tr>\n",
              "    <tr>\n",
              "      <th>39.0</th>\n",
              "      <td>1</td>\n",
              "    </tr>\n",
              "    <tr>\n",
              "      <th>43.0</th>\n",
              "      <td>1</td>\n",
              "    </tr>\n",
              "    <tr>\n",
              "      <th>58.0</th>\n",
              "      <td>1</td>\n",
              "    </tr>\n",
              "    <tr>\n",
              "      <th>...</th>\n",
              "      <td>...</td>\n",
              "    </tr>\n",
              "    <tr>\n",
              "      <th>3376.0</th>\n",
              "      <td>1</td>\n",
              "    </tr>\n",
              "    <tr>\n",
              "      <th>3975.0</th>\n",
              "      <td>1</td>\n",
              "    </tr>\n",
              "    <tr>\n",
              "      <th>9250.0</th>\n",
              "      <td>1</td>\n",
              "    </tr>\n",
              "    <tr>\n",
              "      <th>10139.0</th>\n",
              "      <td>1</td>\n",
              "    </tr>\n",
              "    <tr>\n",
              "      <th>15478.0</th>\n",
              "      <td>1</td>\n",
              "    </tr>\n",
              "  </tbody>\n",
              "</table>\n",
              "<p>141 rows × 1 columns</p>\n",
              "</div><br><label><b>dtype:</b> int64</label>"
            ]
          },
          "metadata": {},
          "execution_count": 86
        }
      ]
    },
    {
      "cell_type": "markdown",
      "source": [
        "hence the 1 code 1 description is achieved"
      ],
      "metadata": {
        "id": "Der3nuWF4rQ0"
      }
    },
    {
      "cell_type": "code",
      "source": [
        "proc"
      ],
      "metadata": {
        "colab": {
          "base_uri": "https://localhost:8080/"
        },
        "id": "PuspYnmH5zm7",
        "outputId": "31b3bcf6-948d-4235-e0fc-3555e246ae42"
      },
      "execution_count": null,
      "outputs": [
        {
          "output_type": "execute_result",
          "data": {
            "text/plain": [
              "{'0': ['NO PROC'],\n",
              " '1': ['INCISION & EXCISION CNS'],\n",
              " '10': ['THYROIDECTOMY;PART/FULL'],\n",
              " '100': ['ENDOSCOPY URINARY TRACT'],\n",
              " '101': ['TRANSURETHRAL EXCISION'],\n",
              " '103': ['NEPHRO-/NEPHROS-TOMY'],\n",
              " '104': ['NEPHRECTOMY; PART/TOTAL'],\n",
              " '108': ['INDWELLING CATHETER'],\n",
              " '109': ['PRCS ON THE URETHRA'],\n",
              " '110': ['OT DX PRCS URINARY TRCT'],\n",
              " '111': ['OT NON-OR THER PRC URIN'],\n",
              " '112': ['OT OR THER PRCS URINARY'],\n",
              " '115': ['CIRCUMCISION'],\n",
              " '116': ['DX PRCS; MALE GENITAL'],\n",
              " '117': ['OT NON-OR THER PRCS; M'],\n",
              " '118': ['OT OR THER PRCS; MALE'],\n",
              " '12': ['OT THER ENDOCRINE PRCS'],\n",
              " '120': ['OT OPERATIONS ON OVARY'],\n",
              " '123': ['OT OPER FALLOPIAN TUBES'],\n",
              " '124': ['HYSTERECTOMY; AB/VAG'],\n",
              " '126': ['ABORTION (TERM OF PREG)'],\n",
              " '127': ['D&C; ASPIR AFT DLV/ABOR'],\n",
              " '130': ['OT DX PRCS; FEMALE ORGN'],\n",
              " '131': ['OT NON-OR THER PRC; FEM'],\n",
              " '132': ['OT OR THER PRC; FEM ORG'],\n",
              " '134': ['CESAREAN SECTION'],\n",
              " '135': ['FORCEP;VAC;BREACH DELIV'],\n",
              " '137': ['OT PRCS TO ASSIST DELIV'],\n",
              " '139': ['FETAL MONITORING'],\n",
              " '14': ['GLAUCOMA PROCEDURES'],\n",
              " '140': ['REPAIR CUR OBS LACERATN'],\n",
              " '141': ['OT THER OBSTETRICAL PRC'],\n",
              " '142': ['PARTIAL EXCISION BONE'],\n",
              " '144': ['TRTMNT,FACE FRACT/DISLC'],\n",
              " '146': ['TRTMNT,FRAC HIP/FEMUR'],\n",
              " '147': ['TRTMNT,FRAC LOWR EXTREM'],\n",
              " '148': ['OT FRACTURE/DISLOC PRC'],\n",
              " '152': ['ARTHROPLASTY KNEE'],\n",
              " '153': ['HIP REPLACEMENT,TOT/PRT'],\n",
              " '156': ['INJ/ASP MUSC,TENDONS,ST'],\n",
              " '157': ['AMPUTATE LOWER EXTRMITY'],\n",
              " '158': ['SPINAL FUSION'],\n",
              " '159': ['OT DX PRCS ON MUSC/SKEL'],\n",
              " '16': ['REPAIR RETINAL TEAR'],\n",
              " '160': ['OT THER PRCS ON MUSCLES'],\n",
              " '161': ['OT OR THER PRCS ON BONE'],\n",
              " '162': ['OT OR THER PRC ON JOINT'],\n",
              " '163': ['OT NON-OR THER PRC MUSC'],\n",
              " '164': ['OT OR THER PRC MUSC/SKL'],\n",
              " '168': ['INCIS/DRAIN, SKIN/SUBCU'],\n",
              " '169': ['DEBRIDE WOUND,INF,BURN'],\n",
              " '17': ['DES LES RETINA/CHOROID'],\n",
              " '170': ['EXCISION OF SKIN LESION'],\n",
              " '171': ['SUTURE SKIN/SUBCUT TISS'],\n",
              " '172': ['SKIN GRAFT'],\n",
              " '173': ['OT DX PRC SKIN/SUBCUTAN'],\n",
              " '174': ['OT NON-OR THER PRC SKIN'],\n",
              " '175': ['OT OR THER PRC SKN/BRST'],\n",
              " '176': ['OT ORGAN TRANSPLANTATN'],\n",
              " '177': ['COMP AXIAL TOMOGR (CT)'],\n",
              " '178': ['CT SCAN CHEST'],\n",
              " '179': ['CT SCAN ABDOMEN'],\n",
              " '18': ['DX PRCS ON EYE'],\n",
              " '180': ['OTHER CT SCAN'],\n",
              " '183': ['ROUTINE CHEST X-RAY'],\n",
              " '185': ['UPPER GI X-RAY'],\n",
              " '186': ['LOWER GI X-RAY'],\n",
              " '187': ['INTRAVENOUS PYELOGRAM'],\n",
              " '188': ['CEREBRAL ARTERIOGRAM'],\n",
              " '19': ['OT THER PRCS EYELIDS'],\n",
              " '190': ['ARTERIO FEMORAL/LOW ART'],\n",
              " '191': ['ARTERIO/VENOGRAM-NOT HH'],\n",
              " '192': ['DX ULTRASOUND HEAD/NECK'],\n",
              " '193': ['DX ULTRASOUND HEART'],\n",
              " '194': ['DX ULTRASOUND OF GI'],\n",
              " '195': ['DX ULTRASOUND URINARY'],\n",
              " '196': ['DX ULTRASOUND AB/RETRO'],\n",
              " '197': ['OTHER DX ULTRASOUND'],\n",
              " '198': ['MAG RESONANCE IMAGING'],\n",
              " '199': ['ELECTROENCEPHALOGRAM'],\n",
              " '2': ['IRR XCRANIAL VENT SHUNT'],\n",
              " '20': ['OT INTRAOCULAR THER PRC'],\n",
              " '202': ['ELECTROCARDIOGRAM'],\n",
              " '203': ['ELECTROGR CARDIAC MONIT'],\n",
              " '204': ['SWAN-GANZ CATH MONITOR'],\n",
              " '205': ['ARTERIAL BLOOD GASES'],\n",
              " '206': ['MICRO EX (BACT SMEAR)'],\n",
              " '208': ['RADIOISOTOPE PULM SCAN'],\n",
              " '21': ['OT EXTRAOCULAR MUSC/ORB'],\n",
              " '210': ['OTHER RADIOISOTOPE SCAN'],\n",
              " '212': ['DX PHYSICAL THERAPY'],\n",
              " '213': ['PHYS THER EXER, MANIPUL'],\n",
              " '214': ['TRACTN, SPLNT, OT WOUND'],\n",
              " '215': ['OT PHYS THER/REHAB'],\n",
              " '216': ['RESP INTUB/MECH VENTIL'],\n",
              " '217': ['OTHER RESP THERAPY'],\n",
              " '218': ['PSYCHO/PSYCHI EVAL/THER'],\n",
              " '219': ['ALCO/DRUG REHAB/DETOX'],\n",
              " '220': ['OPHTHALM-/OT-OLOGIC DX'],\n",
              " '221': ['NASOGASTRIC TUBE'],\n",
              " '222': ['BLOOD TRANSFUSION'],\n",
              " '223': ['ENTERAL/PARENTERAL NUTR'],\n",
              " '224': ['CANCER CHEMOTHERAPY'],\n",
              " '225': ['CONV OF CARDIAC RHYTHM'],\n",
              " '226': ['OT DX RADIO & RELATED'],\n",
              " '227': ['OT DX PRC (INTERVW,EVAL'],\n",
              " '228': ['PROPHYLACTIC VAC/INOCUL'],\n",
              " '229': ['NONOP RMVL FOREIGN BODY'],\n",
              " '23': ['MYRINGOTOMY'],\n",
              " '231': ['OTHER THERAPEUTIC PRCS'],\n",
              " '25': ['DX PRCS ON EAR'],\n",
              " '26': ['OT THERAPEUTIC EAR PRCS'],\n",
              " '28': ['PLASTIC PRCS ON NOSE'],\n",
              " '29': ['ORAL AND DENTAL SVCS'],\n",
              " '3': ['LAMINECTOMY; EXC IV DSC'],\n",
              " '30': ['TONSIL-/ADENOID-ECTOMY'],\n",
              " '31': ['DX PRCS ON NOSE & MOUTH'],\n",
              " '32': ['OT NON-OR THER PRC NOSE'],\n",
              " '33': ['OTHER OR THER PRCS NOSE'],\n",
              " '34': ['TRACHEOSTOMY; TEMP/PERM'],\n",
              " '35': ['TRACHE-/LARYNG-OSCOPY'],\n",
              " '36': ['LOBECTOMY/PNEUMONECTOMY'],\n",
              " '37': ['DX BRONCHOSCOPY & BIOPS'],\n",
              " '38': ['OT DX PRCS ON LUNG'],\n",
              " '39': ['INCISION OF PLEURA'],\n",
              " '4': ['DIAGNOSTIC SPINAL TAP'],\n",
              " '40': ['OT DX PRCS OF RESP TRCT'],\n",
              " '41': ['OT NON-OR THER PRC RESP'],\n",
              " '42': ['OT OR RX PRCS RESP SYS'],\n",
              " '43': ['HEART VALVE PRCS'],\n",
              " '44': ['COR ARTERY BYP GRF-CABG'],\n",
              " '45': ['PERC TRANSLUM COR ANGIO'],\n",
              " '47': ['DX CARDIAC CATHETERIZTN'],\n",
              " '48': ['CARDIAC PACEMAKER/DEFIB'],\n",
              " '49': ['OTHER OR HEART PRCS'],\n",
              " '5': ['INS CATHETER/SPNL STIM'],\n",
              " '50': ['EXTRA CIRC AUX OPEN HRT'],\n",
              " '51': ['ENDARTERECTOMY;VES HEAD'],\n",
              " '52': ['AORTIC RESECTION; REPL'],\n",
              " '54': ['OT VASC CATH; NOT HEART'],\n",
              " '55': ['PERIPH VASCULAR BYPASS'],\n",
              " '56': ['OT VASCULAR BYP/SHUNT'],\n",
              " '58': ['HEMODIALYSIS'],\n",
              " '59': ['OT OR PRCS ON VES HEAD'],\n",
              " '61': ['OT OR PRCS VES NOT HEAD'],\n",
              " '62': ['OT DX CARDIOVASC PRCS'],\n",
              " '63': ['OT NON-OR THER CARDIO'],\n",
              " '65': ['BONE MARROW BIOPSY'],\n",
              " '67': ['OT THER PRCS; HEM/LYMPH'],\n",
              " '7': ['OTHER DX NERV SYS PRCS'],\n",
              " '70': ['UP GASTRO ENDOSC/BIOPSY'],\n",
              " '71': ['GASTROSTOMY; TEMP/PERM'],\n",
              " '72': ['COLOSTOMY; TEMP/PERM'],\n",
              " '73': ['ILEO- & OT ENTER-OSTOMY'],\n",
              " '74': ['GASTRECTOMY; PART/TOTAL'],\n",
              " '75': ['SMALL BOWEL RESECTON'],\n",
              " '76': ['COLONOSCOPY AND BIOPSY'],\n",
              " '77': ['PROCTOSCOPY & AR BIOPSY'],\n",
              " '78': ['COLORECTAL RESECTION'],\n",
              " '79': ['LOC EXC LRG INTEST LESN'],\n",
              " '8': ['OT NON-OR THER NERV SYS'],\n",
              " '80': ['APPENDECTOMY'],\n",
              " '83': ['BIOPSY OF LIVER'],\n",
              " '84': ['CHOLECYSTECTOMY/EXPLOR'],\n",
              " '85': ['INGUINAL/FEMORAL HERNIA'],\n",
              " '86': ['OTHER HERNIA REPAIR'],\n",
              " '87': ['LAPAROSCOPY'],\n",
              " '88': ['ABDOMINAL PARACENTESIS'],\n",
              " '89': ['EXPLORATORY LAPAROTOMY'],\n",
              " '9': ['OTHER OR THER NERV SYS'],\n",
              " '90': ['EXCISION; LYS PERI ADHS'],\n",
              " '92': ['OTHER BOWEL DX PRCS'],\n",
              " '93': ['OT NON-OR UP GI THER PR'],\n",
              " '94': ['OT OR UP GI THER PRCS'],\n",
              " '95': ['OT NON-OR LW GI THER PR'],\n",
              " '96': ['OT OR LOW GI THER PRCS'],\n",
              " '97': ['OTHER GI DX PRCS'],\n",
              " '98': ['OT NON-OR GI THER PRCS'],\n",
              " '99': ['OT OR GI THER PRCS'],\n",
              " 'ADM001': ['TRANSFUSION OF BLOOD AND BLOOD PRODUCTS'],\n",
              " 'ADM002': ['TRANSFUSION OF PLASMA'],\n",
              " 'ADM003': ['ADMINISTRATION OF ALBUMIN AND GLOBULIN'],\n",
              " 'ADM004': ['TRANSFUSION OF CLOTTING FACTORS'],\n",
              " 'ADM005': ['ADMINISTRATION OF THROMBOLYTICS AND PLATELET INHIBITORS'],\n",
              " 'ADM006': ['INFUSION OF VASOPRESSOR'],\n",
              " 'ADM007': ['INTRAVENOUS INDUCTION OF LABOR'],\n",
              " 'ADM009': ['RH IMMUNOGLOBULIN AND OTHER SERUM INFUSION'],\n",
              " 'ADM010': ['VACCINATIONS'],\n",
              " 'ADM012': ['CHEMOTHERAPY'],\n",
              " 'ADM014': ['REGIONAL ANESTHESIA'],\n",
              " 'ADM015': ['ADMINISTRATION OF ANTIBIOTICS'],\n",
              " 'ADM016': ['ADMINISTRATION OF ANTI-INFLAMMATORY AGENTS'],\n",
              " 'ADM017': ['ADMINISTRATION OF NUTRITIONAL AND ELECTROLYTIC SUBSTANCES'],\n",
              " 'ADM018': ['IRRIGATION (DIAGNOSTIC AND THERAPEUTIC)'],\n",
              " 'ADM020': ['ADMINISTRATION OF DIAGNOSTIC SUBSTANCES, NEC'],\n",
              " 'ADM021': ['ADMINISTRATION OF THERAPEUTIC SUBSTANCES, NEC'],\n",
              " 'CAR005': ['OTHER CORONARY ARTERY PROCEDURES (EXCLUDING CABG AND PCI)'],\n",
              " 'CAR007': ['EMBOLECTOMY, ENDARTERECTOMY, AND RELATED VESSEL PROCEDURES (NON-ENDOVASCULAR; EXCLUDING CAROTID)'],\n",
              " 'CAR008': ['ANGIOPLASTY AND RELATED VESSEL PROCEDURES (ENDOVASCULAR; EXCLUDING CAROTID)'],\n",
              " 'CAR010': ['LIGATION AND EMBOLIZATION OF VESSELS'],\n",
              " 'CAR011': ['ANEURYSM REPAIR PROCEDURES'],\n",
              " 'CAR012': ['VESSEL REPAIR AND REPLACEMENT'],\n",
              " 'CAR013': ['HEART AND GREAT VESSEL BYPASS PROCEDURES'],\n",
              " 'CAR014': ['PERIPHERAL ARTERIAL BYPASS PROCEDURES'],\n",
              " 'CAR015': ['PERIPHERAL ARTERIOVENOUS FISTULA AND SHUNT PROCEDURES'],\n",
              " 'CAR017': ['PERICARDIAL PROCEDURES'],\n",
              " 'CAR018': ['HEART TRANSPLANT'],\n",
              " 'CAR019': ['SEPTAL REPAIR AND OTHER THERAPEUTIC HEART PROCEDURES'],\n",
              " 'CAR020': ['SAPHENOUS VEIN HARVEST AND OTHER THERAPEUTIC VESSEL REMOVAL'],\n",
              " 'CAR021': ['ARTERY, VEIN, AND GREAT VESSEL PROCEDURES, NEC'],\n",
              " 'CAR022': ['HEART VALVE REPLACEMENT AND OTHER VALVE PROCEDURES (NON-ENDOVASCULAR)'],\n",
              " 'CAR023': ['HEART VALVE REPLACEMENT AND OTHER VALVE PROCEDURES (ENDOVASCULAR)'],\n",
              " 'CAR024': ['VENOUS AND ARTERIAL CATHETER PLACEMENT'],\n",
              " 'CAR025': ['PLACEMENT OF TUNNELED OR IMPLANTABLE PORTION OF A VASCULAR ACCESS DEVICE'],\n",
              " 'CAR026': ['PACEMAKER AND DEFIBRILLATOR PROCEDURES'],\n",
              " 'CAR027': ['HEART ASSIST DEVICE PROCEDURES'],\n",
              " 'CAR028': ['INFERIOR VENA CAVA (IVC) FILTER PROCEDURES'],\n",
              " 'CAR029': ['CARDIOVASCULAR DEVICE PROCEDURES, NEC'],\n",
              " 'CNS001': ['MINIMALLY INVASIVE CNS BIOPSY'],\n",
              " 'CNS002': ['LUMBAR PUNCTURE'],\n",
              " 'CNS003': ['SPINAL CANAL AND SPINAL CORD DRAINAGE (EXCLUDING LUMBAR PUNCTURE)'],\n",
              " 'CNS005': ['VENTRICULOSTOMY [PERCUTANEOUS APPROACH]'],\n",
              " 'CNS006': ['OTHER CNS DRAINAGE AND RELATED PROCEDURES'],\n",
              " 'CNS007': ['CNS EXCISION PROCEDURES'],\n",
              " 'CNS008': ['SPINAL CORD DECOMPRESSION'],\n",
              " 'CNS009': ['DECOMPRESSIVE CRANIECTOMY'],\n",
              " 'CNS010': ['CEREBROSPINAL FLUID SHUNT PROCEDURES'],\n",
              " 'CNS011': ['MENINGES REPAIR'],\n",
              " 'CNS014': ['CNS PROCEDURES, NEC'],\n",
              " 'ENP004': ['ADRENALECTOMY'],\n",
              " 'ENT001': ['LARYNGOSCOPY (DIAGNOSTIC)'],\n",
              " 'ENT002': ['ENT DIAGNOSTIC ENDOSCOPY (EXCLUDING LARYNGOSCOPY)'],\n",
              " 'ENT003': ['ENT DIAGNOSTIC PROCEDURES (NON-ENDOSCOPIC)'],\n",
              " 'ENT004': ['DIAGNOSTIC AUDIOLOGY'],\n",
              " 'ENT006': ['ENT DRAINAGE (EXCLUDING MYRINGOTOMY)'],\n",
              " 'ENT008': ['NASAL AND SINUS EXCISION'],\n",
              " 'ENT009': ['TONGUE EXCISION'],\n",
              " 'ENT011': ['LARYNGECTOMY'],\n",
              " 'ENT012': ['ENT EXCISION (EXCLUDING NASAL PASSAGE, SINUSES, TONGUE, SALIVARY GLANDS, LARYNX)'],\n",
              " 'ENT013': ['ENT REPAIR'],\n",
              " 'ENT014': ['FRENECTOMY'],\n",
              " 'ENT015': ['DENTAL PROCEDURES'],\n",
              " 'ENT017': ['ENT PROCEDURES, NEC'],\n",
              " 'ESA001': ['HEMODIALYSIS'],\n",
              " 'ESA002': ['EXTRACORPOREAL MEMBRANE OXYGENATION'],\n",
              " 'ESA003': ['MECHANICAL VENTILATION'],\n",
              " 'ESA004': ['NON-INVASIVE VENTILATION'],\n",
              " 'ESA005': ['CARDIAC CHEST COMPRESSION'],\n",
              " 'ESA006': ['CARDIOVERSION'],\n",
              " 'ESA007': ['CARDIAC PACING'],\n",
              " 'ESA008': ['OPEN HEART CARDIOPULMONARY BYPASS'],\n",
              " 'ESA011': ['HYPERBARIC OXYGEN THERAPY'],\n",
              " 'EST001': ['PHERESIS THERAPY'],\n",
              " 'EST002': ['PHOTOTHERAPY'],\n",
              " 'EST003': ['ULTRAVIOLET LIGHT THERAPY'],\n",
              " 'EST004': ['HYPOTHERMIA THERAPY'],\n",
              " 'EST005': ['EXTRACORPOREAL OR SYSTEMIC THERAPIES, NEC'],\n",
              " 'EYP001': ['EYE PROCEDURES'],\n",
              " 'EYP002': ['EYELID PROCEDURES'],\n",
              " 'FRS002': ['OOPHORECTOMY'],\n",
              " 'FRS003': ['SALPINGECTOMY'],\n",
              " 'FRS010': ['FEMALE UPPER GENITAL TRACT EXCISION'],\n",
              " 'FRS011': ['FEMALE LOWER GENITAL TRACT EXCISION'],\n",
              " 'FRS015': ['FEMALE REPRODUCTIVE SYSTEM PROCEDURES, NEC'],\n",
              " 'GIS001': ['ESOPHAGOGASTRODUODENOSCOPY (EGD) WITH BIOPSY'],\n",
              " 'GIS002': ['COLONOSCOPY AND PROCTOSCOPY WITH BIOPSY'],\n",
              " 'GIS003': ['GI SYSTEM BIOPSY (NON-ENDOSCOPIC)'],\n",
              " 'GIS004': ['GI SYSTEM ENDOSCOPY WITHOUT BIOPSY (DIAGNOSTIC)'],\n",
              " 'GIS005': ['EXPLORATION OF PERITONEAL CAVITY'],\n",
              " 'GIS006': ['PARACENTESIS'],\n",
              " 'GIS007': ['GI SYSTEM DRAINAGE (EXCLUDING PARACENTESIS)'],\n",
              " 'GIS008': ['APPENDECTOMY'],\n",
              " 'GIS009': ['COLECTOMY'],\n",
              " 'GIS011': ['SMALL BOWEL RESECTION'],\n",
              " 'GIS012': ['DUODENAL RESECTION'],\n",
              " 'GIS013': ['PROCTECTOMY OR ANAL RESECTION'],\n",
              " 'GIS014': ['ESOPHAGECTOMY'],\n",
              " 'GIS015': ['OMENTECTOMY OR PERITONEUM RESECTION'],\n",
              " 'GIS017': ['GASTROSTOMY'],\n",
              " 'GIS018': ['ILEOSTOMY AND COLOSTOMY'],\n",
              " 'GIS019': ['GASTRO-JEJUNAL BYPASS (INCLUDING BARIATRIC)'],\n",
              " 'GIS021': ['GI SYSTEM REPAIR (EXCLUDING ANORECTAL)'],\n",
              " 'GIS022': ['GI SYSTEM LYSIS OF ADHESIONS'],\n",
              " 'GIS024': ['OTHER PERITONEAL CAVITY PROCEDURES'],\n",
              " 'GIS025': ['OTHER GI SYSTEM DEVICE PROCEDURES'],\n",
              " 'GIS026': ['UPPER GI THERAPEUTIC PROCEDURES, NEC (OPEN AND LAPAROSCOPIC)'],\n",
              " 'GIS027': ['UPPER GI THERAPEUTIC PROCEDURES, NEC (ENDOSCOPIC)'],\n",
              " 'GIS028': ['LOWER GI THERAPEUTIC PROCEDURES, NEC (OPEN AND LAPAROSCOPIC)'],\n",
              " 'GIS029': ['LOWER GI THERAPEUTIC PROCEDURES, NEC (EXCLUDING OPEN AND LAPAROSCOPIC)'],\n",
              " 'GNR001': ['COSMETIC PROCEDURES'],\n",
              " 'GNR002': ['ABDOMINAL WALL REPAIR (INCLUDING HERNIA)'],\n",
              " 'GNR003': ['INGUINAL AND FEMORAL HERNIA REPAIR'],\n",
              " 'GNR004': ['ENDOSCOPIC CONTROL OF BLEEDING'],\n",
              " 'GNR005': ['CONTROL OF BLEEDING (NON-ENDOSCOPIC)'],\n",
              " 'GNR006': ['CHEST WALL PROCEDURES, NEC'],\n",
              " 'GNR007': ['MEDIASTINAL PROCEDURES, NEC'],\n",
              " 'GNR008': ['ABDOMINAL WALL PROCEDURES, NEC'],\n",
              " 'GNR009': ['RETROPERITONEAL PROCEDURES, NEC'],\n",
              " 'GNR010': ['GENITOURINARY TRACT PROCEDURES, NEC'],\n",
              " 'HEP001': ['LIVER BIOPSY'],\n",
              " 'HEP004': ['HEPATOBILIARY RESECTION AND ABLATION'],\n",
              " 'HEP005': ['PANCREATECTOMY'],\n",
              " 'HEP007': ['BILIARY AND PANCREATIC CALCULUS REMOVAL'],\n",
              " 'HEP013': ['HEPATOBILIARY AND PANCREATIC PROCEDURES, NEC'],\n",
              " 'IMG004': ['FLUOROSCOPY OF NON-CIRCULATORY ORGANS'],\n",
              " 'IMG005': ['MAGNETIC RESONANCE IMAGING (MRI)'],\n",
              " 'IMG006': ['COMPUTERIZED TOMOGRAPHY (CT) WITH CONTRAST'],\n",
              " 'IMG007': ['COMPUTERIZED TOMOGRAPHY (CT) WITHOUT CONTRAST'],\n",
              " 'IMG008': ['ULTRASONOGRAPHY'],\n",
              " 'IMG009': ['PLAIN RADIOGRAPHY'],\n",
              " 'LYM001': ['LYMPH NODE BIOPSY'],\n",
              " 'LYM004': ['THYMECTOMY'],\n",
              " 'MAM001': ['ARTERIAL OXYGEN SATURATION MONITORING'],\n",
              " 'MAM002': ['PERIPHERAL ARTERIAL PRESSURE MONITORING'],\n",
              " 'MAM003': ['PULMONARY ARTERIAL PRESSURE MONITORING'],\n",
              " 'MAM005': ['MEASUREMENT DURING CARDIAC CATHETERIZATION'],\n",
              " 'MAM007': ['ELECTROCARDIOGRAM (ECG)'],\n",
              " 'MAM008': ['CARDIAC MONITORING'],\n",
              " 'MAM010': ['OTHER CARDIOVASCULAR SYSTEM MEASUREMENT AND MONITORING'],\n",
              " 'MAM011': ['ELECTROENCEPHALOGRAM (EEG)'],\n",
              " 'MAM014': ['PULMONARY FUNCTION TESTS'],\n",
              " 'MAM015': ['MEASUREMENT AND MONITORING, NEC'],\n",
              " 'MHT001': ['PHARMACOTHERAPY FOR MENTAL HEALTH (EXCLUDING SUBSTANCE USE)'],\n",
              " 'MHT002': ['PSYCHOTHERAPY FOR MENTAL HEALTH (EXCLUDING SUBSTANCE USE)'],\n",
              " 'MRS001': ['CIRCUMCISION'],\n",
              " 'MRS002': ['PENIS PROCEDURES (EXCLUDING CIRCUMCISION)'],\n",
              " 'MRS005': ['MALE PERINEUM PROCEDURES'],\n",
              " 'MRS007': ['MALE REPRODUCTIVE SYSTEM PROCEDURES, NEC'],\n",
              " 'MST003': ['SUBCUTANEOUS TISSUE, FASCIA, AND MUSCLE BIOPSY'],\n",
              " 'MST004': ['INCISION AND DRAINAGE OF MUSCULOSKELETAL TISSUE AND JOINTS'],\n",
              " 'MST005': ['INCISION AND DRAINAGE OF SUBCUTANEOUS TISSUE AND FASCIA'],\n",
              " 'MST009': ['FIXATION OF UPPER EXTREMITY BONES'],\n",
              " 'MST010': ['FEMUR FIXATION'],\n",
              " 'MST012': ['BONE FIXATION (EXCLUDING EXTREMITIES)'],\n",
              " 'MST015': ['CLOSED REDUCTION OF BONES AND JOINTS'],\n",
              " 'MST018': ['BONE EXCISION'],\n",
              " 'MST019': ['MUSCLE, TENDON, BURSA, AND LIGAMENT EXCISION'],\n",
              " 'MST020': ['SUBCUTANEOUS TISSUE AND FASCIA EXCISION'],\n",
              " 'MST022': ['TENDON, MUSCLE, BURSA, AND LIGAMENT REPAIR (EXCLUDING PERINEAL)'],\n",
              " 'MST023': ['TOE AND MID FOOT AMPUTATION'],\n",
              " 'MST026': ['FINGER AND OTHER UPPER EXTREMITY AMPUTATION'],\n",
              " 'MST028': ['SUBCUTANEOUS TISSUE AND FASCIA PROCEDURES, NEC'],\n",
              " 'MST029': ['MUSCULOSKELETAL DEVICE PROCEDURES, NEC'],\n",
              " 'MST030': ['MUSCULOSKELETAL PROCEDURES, NEC'],\n",
              " 'OST001': ['OSTEOPATHIC TREATMENT'],\n",
              " 'OTR004': ['ISOLATION PROCEDURES'],\n",
              " 'PGN001': ['FETAL HEART RATE MONITORING'],\n",
              " 'PGN002': ['SPONTANEOUS VAGINAL DELIVERY'],\n",
              " 'PGN003': ['CESAREAN SECTION'],\n",
              " 'PLC001': ['IMMOBILIZATION BY SPLINT OR OTHER EXTERNAL DEVICE'],\n",
              " 'RAD001': ['BEAM RADIATION'],\n",
              " 'RES001': ['BRONCHOSCOPY (DIAGNOSTIC)'],\n",
              " 'RES002': ['LUNG, PLEURA, OR DIAPHRAGM BIOPSY (NON-ENDOSCOPIC)'],\n",
              " 'RES003': ['THORACENTESIS (DIAGNOSTIC)'],\n",
              " 'RES004': ['BRONCHOSCOPY (THERAPEUTIC)'],\n",
              " 'RES005': ['CHEST TUBE PLACEMENT AND THERAPEUTIC THORACENTESIS'],\n",
              " 'RES006': ['OPEN AND THORACOSCOPIC PLEURAL DRAINAGE'],\n",
              " 'RES007': ['AIRWAY INTUBATION'],\n",
              " 'RES008': ['LUNG, PLEURA, OR DIAPHRAGM RESECTION (OPEN AND THORACOSCOPIC)'],\n",
              " 'RES010': ['TRACHEOSTOMY'],\n",
              " 'RES011': ['DIAPHRAGMATIC HERNIA REPAIR'],\n",
              " 'RES014': ['RESPIRATORY SYSTEM PROCEDURES, NEC'],\n",
              " 'RHB002': ['PHYSICAL, OCCUPATIONAL, AND RESPIRATORY THERAPY TREATMENT'],\n",
              " 'SKB001': ['SKIN BIOPSY AND DIAGNOSTIC DRAINAGE'],\n",
              " 'SKB006': ['SKIN LACERATION REPAIR (EXCLUDING PERINEUM)'],\n",
              " 'SKB008': ['SKIN EXCISION AND DEBRIDEMENT'],\n",
              " 'SKB010': ['SKIN AND BREAST PROCEDURES, NEC'],\n",
              " 'SUD001': ['SUBSTANCE USE DETOXIFICATION'],\n",
              " 'URN001': ['CYSTOSCOPY AND URETEROSCOPY (INCLUDING BIOPSY)'],\n",
              " 'URN002': ['KIDNEY AND OTHER URINARY TRACT BIOPSY (NON-ENDOSCOPIC)'],\n",
              " 'URN003': ['URETER AND OTHER URINARY TRACT DILATION'],\n",
              " 'URN005': ['NEPHROSTOMY AND URETEROSTOMY PROCEDURES (INCLUDING STENTS)'],\n",
              " 'URN006': ['BLADDER CATHETERIZATION AND DRAINAGE'],\n",
              " 'URN007': ['URINARY TRACT REPAIR'],\n",
              " 'URN008': ['NEPHRECTOMY AND URETERECTOMY'],\n",
              " 'URN009': ['CYSTECTOMY (INCLUDING FULGURATION) AND URETHRECTOMY'],\n",
              " 'URN010': ['URINARY DIVERSION WITH ANASTOMOSIS OR OSTOMY'],\n",
              " 'URN012': ['URINARY SYSTEM PROCEDURES, NEC'],\n",
              " 'nan': [None]}"
            ]
          },
          "metadata": {},
          "execution_count": 90
        }
      ]
    },
    {
      "cell_type": "code",
      "source": [
        "df.isna().sum()"
      ],
      "metadata": {
        "colab": {
          "base_uri": "https://localhost:8080/",
          "height": 1000
        },
        "id": "D3UnYMxD4GsJ",
        "outputId": "86fe6dcc-61d1-45dd-a8dd-8aa5ffb1865e"
      },
      "execution_count": null,
      "outputs": [
        {
          "output_type": "execute_result",
          "data": {
            "text/plain": [
              "Hospital Service Area                    1438\n",
              "Hospital County                          1438\n",
              "Operating Certificate Number             1438\n",
              "Permanent Facility Id                    1438\n",
              "Facility Name                            1438\n",
              "Age Group                                   0\n",
              "Zip Code - 3 digits                     18721\n",
              "Gender                                      0\n",
              "Race                                        0\n",
              "Ethnicity                                   0\n",
              "Length of Stay                              0\n",
              "Type of Admission                           0\n",
              "Patient Disposition                         0\n",
              "Discharge Year                              0\n",
              "CCSR Diagnosis Code                         0\n",
              "CCSR Diagnosis Description                  0\n",
              "CCSR Procedure Code                         0\n",
              "CCSR Procedure Description             175218\n",
              "APR DRG Code                                0\n",
              "APR DRG Description                         0\n",
              "APR MDC Code                                0\n",
              "APR MDC Description                         0\n",
              "APR Severity of Illness Code                0\n",
              "APR Severity of Illness Description         0\n",
              "APR Risk of Mortality                     526\n",
              "APR Medical Surgical Description            0\n",
              "Payment Typology 1                          0\n",
              "Birth Weight                                0\n",
              "Emergency Department Indicator              0\n",
              "Total Charges                               0\n",
              "Total Costs                                 0\n",
              "dtype: int64"
            ],
            "text/html": [
              "<div>\n",
              "<style scoped>\n",
              "    .dataframe tbody tr th:only-of-type {\n",
              "        vertical-align: middle;\n",
              "    }\n",
              "\n",
              "    .dataframe tbody tr th {\n",
              "        vertical-align: top;\n",
              "    }\n",
              "\n",
              "    .dataframe thead th {\n",
              "        text-align: right;\n",
              "    }\n",
              "</style>\n",
              "<table border=\"1\" class=\"dataframe\">\n",
              "  <thead>\n",
              "    <tr style=\"text-align: right;\">\n",
              "      <th></th>\n",
              "      <th>0</th>\n",
              "    </tr>\n",
              "  </thead>\n",
              "  <tbody>\n",
              "    <tr>\n",
              "      <th>Hospital Service Area</th>\n",
              "      <td>1438</td>\n",
              "    </tr>\n",
              "    <tr>\n",
              "      <th>Hospital County</th>\n",
              "      <td>1438</td>\n",
              "    </tr>\n",
              "    <tr>\n",
              "      <th>Operating Certificate Number</th>\n",
              "      <td>1438</td>\n",
              "    </tr>\n",
              "    <tr>\n",
              "      <th>Permanent Facility Id</th>\n",
              "      <td>1438</td>\n",
              "    </tr>\n",
              "    <tr>\n",
              "      <th>Facility Name</th>\n",
              "      <td>1438</td>\n",
              "    </tr>\n",
              "    <tr>\n",
              "      <th>Age Group</th>\n",
              "      <td>0</td>\n",
              "    </tr>\n",
              "    <tr>\n",
              "      <th>Zip Code - 3 digits</th>\n",
              "      <td>18721</td>\n",
              "    </tr>\n",
              "    <tr>\n",
              "      <th>Gender</th>\n",
              "      <td>0</td>\n",
              "    </tr>\n",
              "    <tr>\n",
              "      <th>Race</th>\n",
              "      <td>0</td>\n",
              "    </tr>\n",
              "    <tr>\n",
              "      <th>Ethnicity</th>\n",
              "      <td>0</td>\n",
              "    </tr>\n",
              "    <tr>\n",
              "      <th>Length of Stay</th>\n",
              "      <td>0</td>\n",
              "    </tr>\n",
              "    <tr>\n",
              "      <th>Type of Admission</th>\n",
              "      <td>0</td>\n",
              "    </tr>\n",
              "    <tr>\n",
              "      <th>Patient Disposition</th>\n",
              "      <td>0</td>\n",
              "    </tr>\n",
              "    <tr>\n",
              "      <th>Discharge Year</th>\n",
              "      <td>0</td>\n",
              "    </tr>\n",
              "    <tr>\n",
              "      <th>CCSR Diagnosis Code</th>\n",
              "      <td>0</td>\n",
              "    </tr>\n",
              "    <tr>\n",
              "      <th>CCSR Diagnosis Description</th>\n",
              "      <td>0</td>\n",
              "    </tr>\n",
              "    <tr>\n",
              "      <th>CCSR Procedure Code</th>\n",
              "      <td>0</td>\n",
              "    </tr>\n",
              "    <tr>\n",
              "      <th>CCSR Procedure Description</th>\n",
              "      <td>175218</td>\n",
              "    </tr>\n",
              "    <tr>\n",
              "      <th>APR DRG Code</th>\n",
              "      <td>0</td>\n",
              "    </tr>\n",
              "    <tr>\n",
              "      <th>APR DRG Description</th>\n",
              "      <td>0</td>\n",
              "    </tr>\n",
              "    <tr>\n",
              "      <th>APR MDC Code</th>\n",
              "      <td>0</td>\n",
              "    </tr>\n",
              "    <tr>\n",
              "      <th>APR MDC Description</th>\n",
              "      <td>0</td>\n",
              "    </tr>\n",
              "    <tr>\n",
              "      <th>APR Severity of Illness Code</th>\n",
              "      <td>0</td>\n",
              "    </tr>\n",
              "    <tr>\n",
              "      <th>APR Severity of Illness Description</th>\n",
              "      <td>0</td>\n",
              "    </tr>\n",
              "    <tr>\n",
              "      <th>APR Risk of Mortality</th>\n",
              "      <td>526</td>\n",
              "    </tr>\n",
              "    <tr>\n",
              "      <th>APR Medical Surgical Description</th>\n",
              "      <td>0</td>\n",
              "    </tr>\n",
              "    <tr>\n",
              "      <th>Payment Typology 1</th>\n",
              "      <td>0</td>\n",
              "    </tr>\n",
              "    <tr>\n",
              "      <th>Birth Weight</th>\n",
              "      <td>0</td>\n",
              "    </tr>\n",
              "    <tr>\n",
              "      <th>Emergency Department Indicator</th>\n",
              "      <td>0</td>\n",
              "    </tr>\n",
              "    <tr>\n",
              "      <th>Total Charges</th>\n",
              "      <td>0</td>\n",
              "    </tr>\n",
              "    <tr>\n",
              "      <th>Total Costs</th>\n",
              "      <td>0</td>\n",
              "    </tr>\n",
              "  </tbody>\n",
              "</table>\n",
              "</div><br><label><b>dtype:</b> int64</label>"
            ]
          },
          "metadata": {},
          "execution_count": 85
        }
      ]
    },
    {
      "cell_type": "code",
      "source": [
        "# Handling Null Values, imputing NA\n",
        "df['Zip Code - 3 digits']=df['Zip Code - 3 digits'].fillna('NA')"
      ],
      "metadata": {
        "id": "DoAO5zUn45SW"
      },
      "execution_count": null,
      "outputs": []
    },
    {
      "cell_type": "code",
      "source": [
        "# Handling Null Values for risk of mortality Type: object\n",
        "df['APR Risk of Mortality']=df['APR Risk of Mortality'].fillna('NA')"
      ],
      "metadata": {
        "id": "Gt2hx67X4-TZ"
      },
      "execution_count": null,
      "outputs": []
    },
    {
      "cell_type": "code",
      "source": [
        "df.isna().sum()"
      ],
      "metadata": {
        "colab": {
          "base_uri": "https://localhost:8080/",
          "height": 1000
        },
        "id": "5s6-f0vs5bls",
        "outputId": "0a416a78-56fa-45f7-9bc2-882e67a175f2"
      },
      "execution_count": null,
      "outputs": [
        {
          "output_type": "execute_result",
          "data": {
            "text/plain": [
              "Hospital Service Area                    1438\n",
              "Hospital County                          1438\n",
              "Operating Certificate Number             1438\n",
              "Permanent Facility Id                    1438\n",
              "Facility Name                            1438\n",
              "Age Group                                   0\n",
              "Zip Code - 3 digits                         0\n",
              "Gender                                      0\n",
              "Race                                        0\n",
              "Ethnicity                                   0\n",
              "Length of Stay                              0\n",
              "Type of Admission                           0\n",
              "Patient Disposition                         0\n",
              "Discharge Year                              0\n",
              "CCSR Diagnosis Code                         0\n",
              "CCSR Diagnosis Description                  0\n",
              "CCSR Procedure Code                         0\n",
              "CCSR Procedure Description             175218\n",
              "APR DRG Code                                0\n",
              "APR DRG Description                         0\n",
              "APR MDC Code                                0\n",
              "APR MDC Description                         0\n",
              "APR Severity of Illness Code                0\n",
              "APR Severity of Illness Description         0\n",
              "APR Risk of Mortality                       0\n",
              "APR Medical Surgical Description            0\n",
              "Payment Typology 1                          0\n",
              "Birth Weight                                0\n",
              "Emergency Department Indicator              0\n",
              "Total Charges                               0\n",
              "Total Costs                                 0\n",
              "dtype: int64"
            ],
            "text/html": [
              "<div>\n",
              "<style scoped>\n",
              "    .dataframe tbody tr th:only-of-type {\n",
              "        vertical-align: middle;\n",
              "    }\n",
              "\n",
              "    .dataframe tbody tr th {\n",
              "        vertical-align: top;\n",
              "    }\n",
              "\n",
              "    .dataframe thead th {\n",
              "        text-align: right;\n",
              "    }\n",
              "</style>\n",
              "<table border=\"1\" class=\"dataframe\">\n",
              "  <thead>\n",
              "    <tr style=\"text-align: right;\">\n",
              "      <th></th>\n",
              "      <th>0</th>\n",
              "    </tr>\n",
              "  </thead>\n",
              "  <tbody>\n",
              "    <tr>\n",
              "      <th>Hospital Service Area</th>\n",
              "      <td>1438</td>\n",
              "    </tr>\n",
              "    <tr>\n",
              "      <th>Hospital County</th>\n",
              "      <td>1438</td>\n",
              "    </tr>\n",
              "    <tr>\n",
              "      <th>Operating Certificate Number</th>\n",
              "      <td>1438</td>\n",
              "    </tr>\n",
              "    <tr>\n",
              "      <th>Permanent Facility Id</th>\n",
              "      <td>1438</td>\n",
              "    </tr>\n",
              "    <tr>\n",
              "      <th>Facility Name</th>\n",
              "      <td>1438</td>\n",
              "    </tr>\n",
              "    <tr>\n",
              "      <th>Age Group</th>\n",
              "      <td>0</td>\n",
              "    </tr>\n",
              "    <tr>\n",
              "      <th>Zip Code - 3 digits</th>\n",
              "      <td>0</td>\n",
              "    </tr>\n",
              "    <tr>\n",
              "      <th>Gender</th>\n",
              "      <td>0</td>\n",
              "    </tr>\n",
              "    <tr>\n",
              "      <th>Race</th>\n",
              "      <td>0</td>\n",
              "    </tr>\n",
              "    <tr>\n",
              "      <th>Ethnicity</th>\n",
              "      <td>0</td>\n",
              "    </tr>\n",
              "    <tr>\n",
              "      <th>Length of Stay</th>\n",
              "      <td>0</td>\n",
              "    </tr>\n",
              "    <tr>\n",
              "      <th>Type of Admission</th>\n",
              "      <td>0</td>\n",
              "    </tr>\n",
              "    <tr>\n",
              "      <th>Patient Disposition</th>\n",
              "      <td>0</td>\n",
              "    </tr>\n",
              "    <tr>\n",
              "      <th>Discharge Year</th>\n",
              "      <td>0</td>\n",
              "    </tr>\n",
              "    <tr>\n",
              "      <th>CCSR Diagnosis Code</th>\n",
              "      <td>0</td>\n",
              "    </tr>\n",
              "    <tr>\n",
              "      <th>CCSR Diagnosis Description</th>\n",
              "      <td>0</td>\n",
              "    </tr>\n",
              "    <tr>\n",
              "      <th>CCSR Procedure Code</th>\n",
              "      <td>0</td>\n",
              "    </tr>\n",
              "    <tr>\n",
              "      <th>CCSR Procedure Description</th>\n",
              "      <td>175218</td>\n",
              "    </tr>\n",
              "    <tr>\n",
              "      <th>APR DRG Code</th>\n",
              "      <td>0</td>\n",
              "    </tr>\n",
              "    <tr>\n",
              "      <th>APR DRG Description</th>\n",
              "      <td>0</td>\n",
              "    </tr>\n",
              "    <tr>\n",
              "      <th>APR MDC Code</th>\n",
              "      <td>0</td>\n",
              "    </tr>\n",
              "    <tr>\n",
              "      <th>APR MDC Description</th>\n",
              "      <td>0</td>\n",
              "    </tr>\n",
              "    <tr>\n",
              "      <th>APR Severity of Illness Code</th>\n",
              "      <td>0</td>\n",
              "    </tr>\n",
              "    <tr>\n",
              "      <th>APR Severity of Illness Description</th>\n",
              "      <td>0</td>\n",
              "    </tr>\n",
              "    <tr>\n",
              "      <th>APR Risk of Mortality</th>\n",
              "      <td>0</td>\n",
              "    </tr>\n",
              "    <tr>\n",
              "      <th>APR Medical Surgical Description</th>\n",
              "      <td>0</td>\n",
              "    </tr>\n",
              "    <tr>\n",
              "      <th>Payment Typology 1</th>\n",
              "      <td>0</td>\n",
              "    </tr>\n",
              "    <tr>\n",
              "      <th>Birth Weight</th>\n",
              "      <td>0</td>\n",
              "    </tr>\n",
              "    <tr>\n",
              "      <th>Emergency Department Indicator</th>\n",
              "      <td>0</td>\n",
              "    </tr>\n",
              "    <tr>\n",
              "      <th>Total Charges</th>\n",
              "      <td>0</td>\n",
              "    </tr>\n",
              "    <tr>\n",
              "      <th>Total Costs</th>\n",
              "      <td>0</td>\n",
              "    </tr>\n",
              "  </tbody>\n",
              "</table>\n",
              "</div><br><label><b>dtype:</b> int64</label>"
            ]
          },
          "metadata": {},
          "execution_count": 89
        }
      ]
    },
    {
      "cell_type": "markdown",
      "source": [
        "Since so many CCSR procedure descriptions are null , it means for a newborn very likely no significant procedure was recorded for that baby. So The best strategy is to fill the nulls with a meaningful string."
      ],
      "metadata": {
        "id": "DrsSykCP7upR"
      }
    },
    {
      "cell_type": "code",
      "source": [
        "# Fill the NaN values with a descriptive string\n",
        "df['CCSR Procedure Description'].fillna('No Procedure Recorded', inplace=True)\n",
        "\n",
        "# Verify that there are no more nulls\n",
        "print(f\"Null values in 'CCSR Procedure Description' after cleaning: {df['CCSR Procedure Description'].isnull().sum()}\")"
      ],
      "metadata": {
        "colab": {
          "base_uri": "https://localhost:8080/"
        },
        "id": "N49WBKUu7t9E",
        "outputId": "01730e4e-9e63-4b5f-dd8c-c6d79288c93e"
      },
      "execution_count": null,
      "outputs": [
        {
          "output_type": "stream",
          "name": "stdout",
          "text": [
            "Null values in 'CCSR Procedure Description' after cleaning: 0\n"
          ]
        }
      ]
    },
    {
      "cell_type": "markdown",
      "source": [
        "Now 1438 hospital county, id, names are null, which means the entire data of them is untrustworthy, so dropping the 1438 rows would be best"
      ],
      "metadata": {
        "id": "sGqy5aYq9W_Z"
      }
    },
    {
      "cell_type": "code",
      "source": [
        "# See how many rows you have before cleaning\n",
        "rows_before = len(df)\n",
        "print(f\"Number of rows before dropping: {rows_before}\")\n",
        "\n",
        "# Drop any row where 'Permanent Facility Id' is null\n",
        "df.dropna(subset=['Permanent Facility Id'], inplace=True)\n",
        "\n",
        "# See how many rows are left\n",
        "rows_after = len(df)\n",
        "print(f\"Number of rows after dropping: {rows_after}\")\n",
        "print(f\"Total rows removed: {rows_before - rows_after}\")"
      ],
      "metadata": {
        "colab": {
          "base_uri": "https://localhost:8080/"
        },
        "id": "pgwzrfk49nqg",
        "outputId": "d887a103-05c5-452e-a185-518833fbde76"
      },
      "execution_count": null,
      "outputs": [
        {
          "output_type": "stream",
          "name": "stdout",
          "text": [
            "Number of rows before dropping: 1232243\n",
            "Number of rows after dropping: 1230805\n",
            "Total rows removed: 1438\n"
          ]
        }
      ]
    },
    {
      "cell_type": "code",
      "source": [
        "df.isna().sum()"
      ],
      "metadata": {
        "colab": {
          "base_uri": "https://localhost:8080/",
          "height": 1000
        },
        "id": "Sb-mNSh093lM",
        "outputId": "3f0f652d-4d3c-455a-929d-1636748c24d2"
      },
      "execution_count": null,
      "outputs": [
        {
          "output_type": "execute_result",
          "data": {
            "text/plain": [
              "Hospital Service Area                  0\n",
              "Hospital County                        0\n",
              "Operating Certificate Number           0\n",
              "Permanent Facility Id                  0\n",
              "Facility Name                          0\n",
              "Age Group                              0\n",
              "Zip Code - 3 digits                    0\n",
              "Gender                                 0\n",
              "Race                                   0\n",
              "Ethnicity                              0\n",
              "Length of Stay                         0\n",
              "Type of Admission                      0\n",
              "Patient Disposition                    0\n",
              "Discharge Year                         0\n",
              "CCSR Diagnosis Code                    0\n",
              "CCSR Diagnosis Description             0\n",
              "CCSR Procedure Code                    0\n",
              "CCSR Procedure Description             0\n",
              "APR DRG Code                           0\n",
              "APR DRG Description                    0\n",
              "APR MDC Code                           0\n",
              "APR MDC Description                    0\n",
              "APR Severity of Illness Code           0\n",
              "APR Severity of Illness Description    0\n",
              "APR Risk of Mortality                  0\n",
              "APR Medical Surgical Description       0\n",
              "Payment Typology 1                     0\n",
              "Birth Weight                           0\n",
              "Emergency Department Indicator         0\n",
              "Total Charges                          0\n",
              "Total Costs                            0\n",
              "dtype: int64"
            ],
            "text/html": [
              "<div>\n",
              "<style scoped>\n",
              "    .dataframe tbody tr th:only-of-type {\n",
              "        vertical-align: middle;\n",
              "    }\n",
              "\n",
              "    .dataframe tbody tr th {\n",
              "        vertical-align: top;\n",
              "    }\n",
              "\n",
              "    .dataframe thead th {\n",
              "        text-align: right;\n",
              "    }\n",
              "</style>\n",
              "<table border=\"1\" class=\"dataframe\">\n",
              "  <thead>\n",
              "    <tr style=\"text-align: right;\">\n",
              "      <th></th>\n",
              "      <th>0</th>\n",
              "    </tr>\n",
              "  </thead>\n",
              "  <tbody>\n",
              "    <tr>\n",
              "      <th>Hospital Service Area</th>\n",
              "      <td>0</td>\n",
              "    </tr>\n",
              "    <tr>\n",
              "      <th>Hospital County</th>\n",
              "      <td>0</td>\n",
              "    </tr>\n",
              "    <tr>\n",
              "      <th>Operating Certificate Number</th>\n",
              "      <td>0</td>\n",
              "    </tr>\n",
              "    <tr>\n",
              "      <th>Permanent Facility Id</th>\n",
              "      <td>0</td>\n",
              "    </tr>\n",
              "    <tr>\n",
              "      <th>Facility Name</th>\n",
              "      <td>0</td>\n",
              "    </tr>\n",
              "    <tr>\n",
              "      <th>Age Group</th>\n",
              "      <td>0</td>\n",
              "    </tr>\n",
              "    <tr>\n",
              "      <th>Zip Code - 3 digits</th>\n",
              "      <td>0</td>\n",
              "    </tr>\n",
              "    <tr>\n",
              "      <th>Gender</th>\n",
              "      <td>0</td>\n",
              "    </tr>\n",
              "    <tr>\n",
              "      <th>Race</th>\n",
              "      <td>0</td>\n",
              "    </tr>\n",
              "    <tr>\n",
              "      <th>Ethnicity</th>\n",
              "      <td>0</td>\n",
              "    </tr>\n",
              "    <tr>\n",
              "      <th>Length of Stay</th>\n",
              "      <td>0</td>\n",
              "    </tr>\n",
              "    <tr>\n",
              "      <th>Type of Admission</th>\n",
              "      <td>0</td>\n",
              "    </tr>\n",
              "    <tr>\n",
              "      <th>Patient Disposition</th>\n",
              "      <td>0</td>\n",
              "    </tr>\n",
              "    <tr>\n",
              "      <th>Discharge Year</th>\n",
              "      <td>0</td>\n",
              "    </tr>\n",
              "    <tr>\n",
              "      <th>CCSR Diagnosis Code</th>\n",
              "      <td>0</td>\n",
              "    </tr>\n",
              "    <tr>\n",
              "      <th>CCSR Diagnosis Description</th>\n",
              "      <td>0</td>\n",
              "    </tr>\n",
              "    <tr>\n",
              "      <th>CCSR Procedure Code</th>\n",
              "      <td>0</td>\n",
              "    </tr>\n",
              "    <tr>\n",
              "      <th>CCSR Procedure Description</th>\n",
              "      <td>0</td>\n",
              "    </tr>\n",
              "    <tr>\n",
              "      <th>APR DRG Code</th>\n",
              "      <td>0</td>\n",
              "    </tr>\n",
              "    <tr>\n",
              "      <th>APR DRG Description</th>\n",
              "      <td>0</td>\n",
              "    </tr>\n",
              "    <tr>\n",
              "      <th>APR MDC Code</th>\n",
              "      <td>0</td>\n",
              "    </tr>\n",
              "    <tr>\n",
              "      <th>APR MDC Description</th>\n",
              "      <td>0</td>\n",
              "    </tr>\n",
              "    <tr>\n",
              "      <th>APR Severity of Illness Code</th>\n",
              "      <td>0</td>\n",
              "    </tr>\n",
              "    <tr>\n",
              "      <th>APR Severity of Illness Description</th>\n",
              "      <td>0</td>\n",
              "    </tr>\n",
              "    <tr>\n",
              "      <th>APR Risk of Mortality</th>\n",
              "      <td>0</td>\n",
              "    </tr>\n",
              "    <tr>\n",
              "      <th>APR Medical Surgical Description</th>\n",
              "      <td>0</td>\n",
              "    </tr>\n",
              "    <tr>\n",
              "      <th>Payment Typology 1</th>\n",
              "      <td>0</td>\n",
              "    </tr>\n",
              "    <tr>\n",
              "      <th>Birth Weight</th>\n",
              "      <td>0</td>\n",
              "    </tr>\n",
              "    <tr>\n",
              "      <th>Emergency Department Indicator</th>\n",
              "      <td>0</td>\n",
              "    </tr>\n",
              "    <tr>\n",
              "      <th>Total Charges</th>\n",
              "      <td>0</td>\n",
              "    </tr>\n",
              "    <tr>\n",
              "      <th>Total Costs</th>\n",
              "      <td>0</td>\n",
              "    </tr>\n",
              "  </tbody>\n",
              "</table>\n",
              "</div><br><label><b>dtype:</b> int64</label>"
            ]
          },
          "metadata": {},
          "execution_count": 93
        }
      ]
    },
    {
      "cell_type": "markdown",
      "source": [
        "So finally the dataset is good to go where there is no null value"
      ],
      "metadata": {
        "id": "M_M6x6EB-EHj"
      }
    },
    {
      "cell_type": "markdown",
      "source": [
        "now dropping the unnecessary cols, codecols are not much needed for EDA , only the descriptions will be used"
      ],
      "metadata": {
        "id": "dT8Tib1G99Nl"
      }
    },
    {
      "cell_type": "code",
      "source": [
        "df.drop(columns=['Type of Admission','Operating Certificate Number','Hospital Service Area','CCSR Diagnosis Code','CCSR Procedure Code','APR Severity of Illness Code',\n",
        "                 'APR DRG Code','APR MDC Code','Permanent Facility Id'], inplace=True)"
      ],
      "metadata": {
        "id": "0hae3Gl-wEeB"
      },
      "execution_count": null,
      "outputs": []
    },
    {
      "cell_type": "code",
      "source": [
        "df.shape"
      ],
      "metadata": {
        "colab": {
          "base_uri": "https://localhost:8080/"
        },
        "id": "MFHkSQNf_ZjJ",
        "outputId": "afc7c24c-4f70-4be3-92b8-3d5a9e299c50"
      },
      "execution_count": null,
      "outputs": [
        {
          "output_type": "execute_result",
          "data": {
            "text/plain": [
              "(1230805, 22)"
            ]
          },
          "metadata": {},
          "execution_count": 95
        }
      ]
    },
    {
      "cell_type": "code",
      "source": [
        "df.to_parquet('/content/drive/My Drive/All_Sparcs_Dataset/sparcs_all_years_for_EDA.parquet')"
      ],
      "metadata": {
        "id": "4ayxRo51ADlE"
      },
      "execution_count": null,
      "outputs": []
    },
    {
      "cell_type": "markdown",
      "source": [
        "The final preprocessing and cleaning is done and the file for EDA is made, Now with this file will start the EDA part"
      ],
      "metadata": {
        "id": "wA1PipTSAMnI"
      }
    }
  ]
}